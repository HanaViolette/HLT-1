{
 "cells": [
  {
   "cell_type": "markdown",
   "metadata": {},
   "source": [
    "# Home Learning Tasks\n",
    "#### 🌸Session 9: Deep learning with TensorFlow | Tuesday, 22/02/2022\n",
    "_____________________________________________________________________________________________________________________"
   ]
  },
  {
   "cell_type": "markdown",
   "metadata": {},
   "source": [
    "### Lesson Contents\n",
    "\n",
    "- What is TensorFlow?\n",
    "- History of Tensorflow\n",
    "- Deep Learning\n",
    "- Artificial Neural Networks\n",
    "- Loading Datasets\n",
    "- Exploring the Data\n",
    "- Pre-Process/test\n",
    "- Internezzo: correlation matrix\n",
    "\n",
    "______________________________________________________________________________________________________"
   ]
  },
  {
   "cell_type": "markdown",
   "metadata": {},
   "source": [
    "### Your task is to:\n",
    "\n",
    "•Find out what Responsible AI is?\n",
    "\n",
    "•Find instances where AI has failed? Or been used maliciously or incorrectly.\n",
    "\n",
    "•Implications of when AI fails. There is a specific article in the GDPR Law that covers this, especially with automated decision making. (opt in and out options).\n",
    "\n",
    "•What should organisations do to ensure that they are being responsible with AI and the wider use of data in general?\n",
    "\n",
    "•Maximum 500words."
   ]
  },
  {
   "cell_type": "code",
   "execution_count": null,
   "metadata": {},
   "outputs": [],
   "source": [
    "\n"
   ]
  }
 ],
 "metadata": {
  "language_info": {
   "name": "python"
  },
  "orig_nbformat": 4
 },
 "nbformat": 4,
 "nbformat_minor": 2
}
