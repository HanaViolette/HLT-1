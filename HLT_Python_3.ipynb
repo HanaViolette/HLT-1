{
 "cells": [
  {
   "cell_type": "markdown",
   "metadata": {},
   "source": [
    "     >(')____,  >(')____,  >(')____,  >(')____,  >(') ___, \n",
    "       (` =~~/    (` =~~/    (` =~~/    (` =~~/    (` =~~/ \n",
    " jgs~^~^`---'~^~^~^`---'~^~^~^`---'~^~^~^`---'~^~^~^`---'~^~^~\n"
   ]
  },
  {
   "cell_type": "markdown",
   "metadata": {},
   "source": [
    "# Home Learning Tasks\n",
    "#### Python Fundamentals - Session 3\n",
    "_____________________________________________________________________________________________________________________"
   ]
  },
  {
   "cell_type": "markdown",
   "metadata": {},
   "source": [
    "#### Lesson Contents\n",
    "\n",
    "• 1 + 2 Dimensional Lists\n",
    "\n",
    "• String Handling\n",
    "\n",
    "• File Handling\n",
    "______________________________________________________________________________________________________________________"
   ]
  },
  {
   "cell_type": "markdown",
   "metadata": {},
   "source": [
    "#### Task 1\n",
    "\n",
    "Write a program that allows you to enter 4 numbers and stores them in a file called \"Numbers\"\n",
    "• 3\n",
    "• 45\n",
    "• 83\n",
    "• 21\n",
    "\n",
    "Have a go at 'w' 'r' 'a'\n",
    "\n",
    "w = Writes new data to a file\n",
    "\n",
    "r = Reads from a file\n",
    "\n",
    "a = Append data to the end of the file"
   ]
  },
  {
   "cell_type": "code",
   "execution_count": null,
   "metadata": {},
   "outputs": [],
   "source": [
    "#example language\n",
    "\n",
    "open()\n",
    "my_file = open(\"my_new_text_file.txt\", \"w\")\n",
    "for i in range(10):\n",
    "    my_file.write(str(i))\n",
    "    my_file.write(\"\\n\")\n",
    "\n",
    "    my_file.close()"
   ]
  },
  {
   "cell_type": "code",
   "execution_count": 4,
   "metadata": {},
   "outputs": [],
   "source": [
    "numbers = open(\"numbers.txt\", \"w\")\n",
    "numbers.write(input(\"Enter the first number\"))\n",
    "numbers.write(\"\\n\")\n",
    "numbers.write(input(\"Enter the second number\"))\n",
    "numbers.write(\"\\n\")\n",
    "numbers.write(input(\"Enter the third number\"))\n",
    "numbers.write(\"\\n\")\n",
    "numbers.write(input(\"Enter the fourth number\"))\n",
    "numbers.close()"
   ]
  },
  {
   "cell_type": "code",
   "execution_count": 8,
   "metadata": {},
   "outputs": [
    {
     "name": "stdout",
     "output_type": "stream",
     "text": [
      "3\n",
      "45\n",
      "83\n",
      "21\n"
     ]
    }
   ],
   "source": [
    "with open(\"numbers.txt\", \"r\") as numbers:\n",
    " numberlist = numbers.read()\n",
    "numbers.close\n",
    "print(numberlist)\n",
    "\n",
    "#\"with\" has a red underline but the code still works so I'm not touching it - expected indented block, guess this doesn't apply bc new cell?"
   ]
  },
  {
   "cell_type": "markdown",
   "metadata": {},
   "source": [
    "#### Task 2\n",
    "\n",
    "Write a program to ask a student for their percentage mark and convert this to a grade.\n",
    "\n",
    "The conversion will be done in a function called mark_grade"
   ]
  },
  {
   "cell_type": "code",
   "execution_count": null,
   "metadata": {},
   "outputs": [],
   "source": [
    "#National qualifications\n",
    "#Advanced Highers\n",
    "\n",
    "#A (around 77–100%)\n",
    "#B: Above average grade, very good (around 60–77%)\n",
    "#C: Minimum pass, improvement needed (around 50–60%)\n",
    "#D: Close fail (between 40% and 49%)\n",
    "#N/A: Fail/No Pass (0–40%)\n",
    "\n",
    "def mark_grade():"
   ]
  },
  {
   "cell_type": "markdown",
   "metadata": {},
   "source": [
    "##### Extensions to task 2\n",
    "\n",
    "•Ask the user for their target grade and print this with their mark\n",
    "\n",
    "•If their target grade > exam grade display a suitable message\n",
    "\n",
    "•If their target grade = exam grade display a suitable message\n",
    "\n",
    "•If their target grade < exam grade display a suitable message"
   ]
  },
  {
   "cell_type": "code",
   "execution_count": null,
   "metadata": {},
   "outputs": [],
   "source": []
  }
 ],
 "metadata": {
  "interpreter": {
   "hash": "4527cf33e35289af7e32c372203409dc20daf4b5cc0ec728c3c244caabf53a98"
  },
  "kernelspec": {
   "display_name": "Python 3.10.2 64-bit",
   "language": "python",
   "name": "python3"
  },
  "language_info": {
   "codemirror_mode": {
    "name": "ipython",
    "version": 3
   },
   "file_extension": ".py",
   "mimetype": "text/x-python",
   "name": "python",
   "nbconvert_exporter": "python",
   "pygments_lexer": "ipython3",
   "version": "3.10.2"
  },
  "orig_nbformat": 4
 },
 "nbformat": 4,
 "nbformat_minor": 2
}
