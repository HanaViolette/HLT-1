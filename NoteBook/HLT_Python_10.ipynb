{
 "cells": [
  {
   "cell_type": "markdown",
   "metadata": {},
   "source": [
    "# Home Learning Tasks\n",
    "#### 🌸Session 10: Introduction to Databases and SQL | Tuesday, 15/03/2022\n",
    "______________________________________________________________________________________________________________________________________________"
   ]
  },
  {
   "cell_type": "markdown",
   "metadata": {},
   "source": [
    "#### Lesson Contents\n",
    "\n",
    "• Big data\n",
    "\n",
    "• What are Databases\n",
    "\n",
    "• The Different types of Databases\n",
    "\n",
    "• Entity relationship modelling\n",
    "\n",
    "• Normalisation\n",
    "\n",
    "• Referential Integrity\n",
    "\n",
    "• Transaction Processing\n",
    "\n",
    "• ACID\n",
    "\n",
    "• Record locking and data redundancy\n",
    "\n",
    "______________________________________________________________________________________________________________________________________________"
   ]
  },
  {
   "cell_type": "markdown",
   "metadata": {},
   "source": [
    "### Task 1\n",
    "Install and set up **MySQL Command Line Client** and **MySQL Workbench**\n",
    "\n",
    "<img src=\"../Images/SQLWindows.png\" />"
   ]
  },
  {
   "cell_type": "markdown",
   "metadata": {},
   "source": [
    "### Task 2\n",
    "Create a database of your own choice. It must be a meaniful/though out database."
   ]
  },
  {
   "cell_type": "markdown",
   "metadata": {},
   "source": []
  },
  {
   "cell_type": "markdown",
   "metadata": {},
   "source": [
    "### Task 3\n",
    "Create a table with a primary key and the correct datatypes. Include a minimum of 5 fields. View the table structure to make sure it is setup correctly."
   ]
  },
  {
   "cell_type": "markdown",
   "metadata": {},
   "source": []
  }
 ],
 "metadata": {
  "language_info": {
   "name": "python"
  },
  "orig_nbformat": 4
 },
 "nbformat": 4,
 "nbformat_minor": 2
}
