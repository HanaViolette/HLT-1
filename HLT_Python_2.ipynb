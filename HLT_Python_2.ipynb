{
 "cells": [
  {
   "cell_type": "markdown",
   "metadata": {},
   "source": [
    "                _________________                                                                                                                                                                  \n",
    "               /                /|                                                                                                                                                                 \n",
    "              /                / |                                                                                                                                                                 \n",
    "             /________________/ /|                                                                                                                                                                 \n",
    "          ###|      ____      |//|                                                                                                                                                                 \n",
    "         #   |     /   /|     |/.|                                                                                                                                                                 \n",
    "        #  __|___ /   /.|     |  |_______________                                                                                                                                                  \n",
    "       #  /      /   //||     |  /              /|                  ___                                                                                                                            \n",
    "      #  /      /___// ||     | /              / |                 / \\ \\                                                                                                                           \n",
    "      # /______/!   || ||_____|/              /  |                /   \\ \\                                                                                                                          \n",
    "      #| . . .  !   || ||                    /  _________________/     \\ \\                                                                                                                         \n",
    "      #|  . .   !   || //      ________     /  /\\________________  {   /  }                                                                                                                        \n",
    "      /|   .    !   ||//~~~~~~/   0000/    /  / / ______________  {   /  /                                                                                                                         \n",
    "     / |        !   |'/      /9  0000/    /  / / /             / {   /  /                                                                                                                          \n",
    "    / #\\________!___|/      /9  0000/    /  / / /_____________/___  /  /                                                                                                                           \n",
    "# Home Learning Tasks\n",
    "#### Python Fundamentals - Session 2\n",
    "______________________________________________________________________________________________________________________________________________"
   ]
  },
  {
   "cell_type": "markdown",
   "metadata": {},
   "source": [
    "##### K.I.S.S - Keep It Simple, Stupid | D.R.Y - Don't Repeat Yourself\n",
    "________________________________________________________________________________________________________\n",
    "\n"
   ]
  },
  {
   "cell_type": "markdown",
   "metadata": {},
   "source": [
    "### Task 1\n",
    "\n",
    "Write a program that asks the user for an integer number and checks if it is > 10. If it is, it will print \"Number is greater than 10\", else \"Number is smaller than 10\"."
   ]
  },
  {
   "cell_type": "code",
   "execution_count": null,
   "metadata": {},
   "outputs": [],
   "source": [
    "#placeholder"
   ]
  },
  {
   "cell_type": "markdown",
   "metadata": {},
   "source": [
    "### Task 2\n",
    "\n",
    "Then write a loop program that asks the user for an integer number and check if it is < 10. If it is < 10 then it keeps adding 1 to the value."
   ]
  },
  {
   "cell_type": "code",
   "execution_count": null,
   "metadata": {},
   "outputs": [],
   "source": [
    "#placeholder"
   ]
  },
  {
   "cell_type": "markdown",
   "metadata": {},
   "source": [
    "### Home Learning Tasks\n",
    "\n",
    "Create your own Flow Diagram, a subject of your own choice, Example: Fast food order and convert it into code.\n",
    "\n",
    "As an extension to the motorbike task that costs £2000 and loses 10% of its value every year. Set up a function that performs the calculation by passing in parameters. Then using a loop, print the value of the bike every following year until it falls below £1000.\n",
    "\n",
    "Write a program which will ask for two numbers from a user. Then offer an option menu to the user giving them a choice of mathsoperators. Once the user has selected which operator they wish to use, perform the calculation by using a procedure and passing parameters. "
   ]
  },
  {
   "cell_type": "code",
   "execution_count": null,
   "metadata": {},
   "outputs": [],
   "source": [
    "#placeholder"
   ]
  }
 ],
 "metadata": {
  "language_info": {
   "name": "python"
  },
  "orig_nbformat": 4
 },
 "nbformat": 4,
 "nbformat_minor": 2
}
