{
 "cells": [
  {
   "cell_type": "code",
   "execution_count": 4,
   "metadata": {},
   "outputs": [
    {
     "name": "stdout",
     "output_type": "stream",
     "text": [
      "Results: Grade  C\n",
      "Better luck next time\n"
     ]
    }
   ],
   "source": [
    "#refactored/cleaned up code task 2 \n",
    "\n",
    "def mark_grade():\n",
    "    if percentage >= 70:\n",
    "     result_grade = \"A\"\n",
    "    elif 60 <= percentage < 70:                      \n",
    "        result_grade = \"B\"\n",
    "    elif 50 <= percentage < 60:\n",
    "     result_grade = \"C\"\n",
    "    elif 40 <= percentage < 50:\n",
    "        result_grade = \"D\"\n",
    "    else:\n",
    "     result_grade = \"Failed\"\n",
    "    return result_grade   \n",
    "\n",
    "\n",
    "def print_expected_grade(target, result):\n",
    " if target > result:\n",
    "     print(\"Succeeded beyond expectation\")\n",
    " elif target < result:\n",
    "    print(\"Better luck next time\")\n",
    " elif target == result:                                                           \n",
    "    print(\"Right on the bullseye\")\n",
    "\n",
    "\n",
    "percentage = int(input(\"Please enter the score\"))         #input number\n",
    "result_grade = mark_grade()                               #\n",
    "print(\"Results: Grade \", result_grade)  \n",
    "target_grade = str(input(\"Enter Target Grade\"))\n",
    "print_expected_grade(target_grade, result_grade)\n"
   ]
  }
 ],
 "metadata": {
  "interpreter": {
   "hash": "4527cf33e35289af7e32c372203409dc20daf4b5cc0ec728c3c244caabf53a98"
  },
  "kernelspec": {
   "display_name": "Python 3.10.2 64-bit",
   "language": "python",
   "name": "python3"
  },
  "language_info": {
   "codemirror_mode": {
    "name": "ipython",
    "version": 3
   },
   "file_extension": ".py",
   "mimetype": "text/x-python",
   "name": "python",
   "nbconvert_exporter": "python",
   "pygments_lexer": "ipython3",
   "version": "3.10.2"
  },
  "orig_nbformat": 4
 },
 "nbformat": 4,
 "nbformat_minor": 2
}
