{
 "cells": [
  {
   "cell_type": "code",
   "execution_count": null,
   "metadata": {},
   "outputs": [],
   "source": [
    "input_num1 = input(\"Type the first number\")\n",
    "input_num2 = input(\"Type the second number\")\n",
    "equation = int(input_num1) + int(input_num2)      \n",
    "print(equation)"
   ]
  }
 ],
 "metadata": {
  "language_info": {
   "name": "python"
  },
  "orig_nbformat": 4
 },
 "nbformat": 4,
 "nbformat_minor": 2
}
