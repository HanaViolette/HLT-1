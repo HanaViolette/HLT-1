{
 "cells": [
  {
   "cell_type": "markdown",
   "metadata": {},
   "source": [
    "                _________________                                                                                                                                                                  \n",
    "               /                /|                                                                                                                                                                 \n",
    "              /                / |                                                                                                                                                                 \n",
    "             /________________/ /|                                                                                                                                                                 \n",
    "          ###|      ____      |//|                                                                                                                                                                 \n",
    "         #   |     /   /|     |/.|                                                                                                                                                                 \n",
    "        #  __|___ /   /.|     |  |_______________                                                                                                                                                  \n",
    "       #  /      /   //||     |  /              /|                  ___                                                                                                                            \n",
    "      #  /      /___// ||     | /              / |                 / \\ \\                                                                                                                           \n",
    "      # /______/!   || ||_____|/              /  |                /   \\ \\                                                                                                                          \n",
    "      #| . . .  !   || ||                    /  _________________/     \\ \\                                                                                                                         \n",
    "      #|  . .   !   || //      ________     /  /\\________________  {   /  }                                                                                                                        \n",
    "      /|   .    !   ||//~~~~~~/   0000/    /  / / ______________  {   /  /                                                                                                                         \n",
    "     / |        !   |'/      /9  0000/    /  / / /             / {   /  /                                                                                                                          \n",
    "    / #\\________!___|/      /9  0000/    /  / / /_____________/___  /  /                                                                                                                           \n",
    "# Home Learning Tasks\n",
    "#### Python Fundamentals - Session 2\n",
    "______________________________________________________________________________________________________________________________________________"
   ]
  },
  {
   "cell_type": "markdown",
   "metadata": {},
   "source": [
    "##### K.I.S.S - Keep It Simple, Stupid | D.R.Y - Don't Repeat Yourself\n",
    "________________________________________________________________________________________________________\n",
    "\n"
   ]
  },
  {
   "cell_type": "markdown",
   "metadata": {},
   "source": [
    "### Task 1 - Procedures\n",
    "\n",
    "Write a program that asks the user for an integer number and checks if it is > 10. If it is, it will print \"Number is greater than 10\", else \"Number is smaller than 10\"."
   ]
  },
  {
   "cell_type": "code",
   "execution_count": 8,
   "metadata": {},
   "outputs": [
    {
     "name": "stdout",
     "output_type": "stream",
     "text": [
      "Number is greater than 10\n"
     ]
    }
   ],
   "source": [
    "user_input = int(input(\"Please enter a number\"))\n",
    "if user_input >= 10:\n",
    "    print(\"Number is greater than 10\")\n",
    "elif user_input <= 10:\n",
    "    print(\"Number is smaller than 10\")\n"
   ]
  },
  {
   "cell_type": "markdown",
   "metadata": {},
   "source": [
    "### Task 2 - Functions\n",
    "\n",
    "Then write a loop program that asks the user for an integer number and check if it is < 10. If it is < 10 then it keeps adding 1 to the value."
   ]
  },
  {
   "cell_type": "code",
   "execution_count": null,
   "metadata": {},
   "outputs": [],
   "source": []
  },
  {
   "cell_type": "markdown",
   "metadata": {},
   "source": [
    "### Home Learning Tasks\n",
    "\n",
    "Create your own Flow Diagram, a subject of your own choice, Example: Fast food order and convert it into code.\n",
    "\n",
    "Use: https://www.lucidchart.com/pages/ to create a flowchart and inset the image using <img src=\"./image-name.file-type\" /> ← (edit to reveal code)\n",
    "<img src=\"./PokemonCoding.png\" />"
   ]
  },
  {
   "cell_type": "code",
   "execution_count": 18,
   "metadata": {},
   "outputs": [
    {
     "name": "stdout",
     "output_type": "stream",
     "text": [
      "Wild RATTATA appeared! Go! Pikachu!\n",
      "You challenged RATTATA\n"
     ]
    }
   ],
   "source": [
    "print(\"Wild RATTATA appeared! Go! Pikachu!\")\n",
    "user_input = input(\"What will you do? Type fight, pokemon, item or run \")\n",
    "if user_input == \"fight\":\n",
    " print(\"You challenged RATTATA\")\n",
    "elif user_input == \"pokemon\":\n",
    " print(\"Sorry but you have no other Pokemon\")\n",
    "elif user_input == \"item\":\n",
    " print(\"You opened your bag but it's empty\")\n",
    "elif user_input == \"run\":\n",
    " print(\"You ran away\")"
   ]
  },
  {
   "cell_type": "markdown",
   "metadata": {},
   "source": [
    "As an extension to the motorbike task that costs £2000 and loses 10% of its value every year. Set up a function that performs the calculation by passing in parameters. Then using a loop, print the value of the bike every following year until it falls below £1000."
   ]
  },
  {
   "cell_type": "code",
   "execution_count": null,
   "metadata": {},
   "outputs": [],
   "source": [
    "dsfd"
   ]
  },
  {
   "cell_type": "markdown",
   "metadata": {},
   "source": [
    "Write a program which will ask for two numbers from a user. Then offer an option menu to the user giving them a choice of mathsoperators. Once the user has selected which operator they wish to use, perform the calculation by using a procedure and passing parameters."
   ]
  },
  {
   "cell_type": "code",
   "execution_count": null,
   "metadata": {},
   "outputs": [],
   "source": [
    "gkbjl"
   ]
  }
 ],
 "metadata": {
  "interpreter": {
   "hash": "4527cf33e35289af7e32c372203409dc20daf4b5cc0ec728c3c244caabf53a98"
  },
  "kernelspec": {
   "display_name": "Python 3.10.2 64-bit",
   "language": "python",
   "name": "python3"
  },
  "language_info": {
   "codemirror_mode": {
    "name": "ipython",
    "version": 3
   },
   "file_extension": ".py",
   "mimetype": "text/x-python",
   "name": "python",
   "nbconvert_exporter": "python",
   "pygments_lexer": "ipython3",
   "version": "3.10.2"
  },
  "orig_nbformat": 4
 },
 "nbformat": 4,
 "nbformat_minor": 2
}
