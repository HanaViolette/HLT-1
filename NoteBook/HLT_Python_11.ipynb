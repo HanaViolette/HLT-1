{
 "cells": [
  {
   "cell_type": "markdown",
   "metadata": {},
   "source": [
    "# Home Learning Tasks\n",
    "#### 🌸Session 11: Introduction to Databases and SQL (Pt.2) | Thursday, 17/03/2022\n",
    "______________________________________________________________________________________________________________________________________________"
   ]
  },
  {
   "cell_type": "markdown",
   "metadata": {},
   "source": [
    "### Task 1\n",
    "\n",
    "- Create a relational database (***2 tables***) of your own choice. It must be a meaningful/thoughtout database.\n",
    "\n",
    "- Both tables must have a ***primary key*** and the correct ***data types***. Include a minimum of 5 fields in at least one of the tables.\n",
    "\n",
    "- View and show both table structures and data to make sure they are set up correctly.\n",
    "\n",
    "- Enter records into both tables and view them. Make sure at leastone of your tables has 10 records."
   ]
  },
  {
   "cell_type": "code",
   "execution_count": null,
   "metadata": {},
   "outputs": [],
   "source": [
    "<img src=\"../Images/.png\" />"
   ]
  },
  {
   "cell_type": "markdown",
   "metadata": {},
   "source": [
    "### Schema(Database) - librarymanagementtest"
   ]
  },
  {
   "cell_type": "markdown",
   "metadata": {},
   "source": [
    "### Table 1 - Books 📚"
   ]
  },
  {
   "cell_type": "markdown",
   "metadata": {},
   "source": [
    "<img src=\"../Images/sql1.png\" />"
   ]
  },
  {
   "cell_type": "markdown",
   "metadata": {},
   "source": [
    "<img src=\"../Images/sql2.png\" />"
   ]
  },
  {
   "cell_type": "markdown",
   "metadata": {},
   "source": [
    "\n",
    "<img src=\"../Images/sql3.png\" />"
   ]
  },
  {
   "cell_type": "markdown",
   "metadata": {},
   "source": [
    "### Table 2 - Members 🧍‍♀️ 🧍 🧍‍♂️"
   ]
  },
  {
   "cell_type": "markdown",
   "metadata": {},
   "source": [
    "<img src=\"../Images/sql4.png\" />"
   ]
  },
  {
   "cell_type": "markdown",
   "metadata": {},
   "source": [
    "<img src=\"../Images/sql5.png\" />"
   ]
  },
  {
   "cell_type": "markdown",
   "metadata": {},
   "source": [
    "<img src=\"../Images/sql6.png\" />"
   ]
  },
  {
   "cell_type": "markdown",
   "metadata": {},
   "source": [
    "___________________________________________________________________________________________________________________________________________________________________\n",
    "Update a record\n",
    "\n",
    "Delete a record\n",
    "\n",
    "Join tables\n",
    "\n",
    "Run a simple query (one field/column) search ingone table.\n",
    "\n",
    "Run a complex query(more than one field/column)to demonstrate the relations between the 2 tables\n",
    "\n",
    "Retrieve all your data sorted in ascending order on an appropriate field (onetable)\n",
    "\n",
    "Filter data using comparison operators(one table)"
   ]
  }
 ],
 "metadata": {
  "language_info": {
   "name": "python"
  },
  "orig_nbformat": 4
 },
 "nbformat": 4,
 "nbformat_minor": 2
}
