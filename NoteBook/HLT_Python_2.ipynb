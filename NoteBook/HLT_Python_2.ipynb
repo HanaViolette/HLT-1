{
 "cells": [
  {
   "cell_type": "markdown",
   "metadata": {},
   "source": [
    "                _________________                                                                                                                                                                  \n",
    "               /                /|                                                                                                                                                                 \n",
    "              /                / |                                                                                                                                                                 \n",
    "             /________________/ /|                                                                                                                                                                 \n",
    "          ###|      ____      |//|                                                                                                                                                                 \n",
    "         #   |     /   /|     |/.|                                                                                                                                                                 \n",
    "        #  __|___ /   /.|     |  |_______________                                                                                                                                                  \n",
    "       #  /      /   //||     |  /              /|                  ___                                                                                                                            \n",
    "      #  /      /___// ||     | /              / |                 / \\ \\                                                                                                                           \n",
    "      # /______/!   || ||_____|/              /  |                /   \\ \\                                                                                                                          \n",
    "      #| . . .  !   || ||                    /  _________________/     \\ \\                                                                                                                         \n",
    "      #|  . .   !   || //      ________     /  /\\________________  {   /  }                                                                                                                        \n",
    "      /|   .    !   ||//~~~~~~/   0000/    /  / / ______________  {   /  /                                                                                                                         \n",
    "     / |        !   |'/      /9  0000/    /  / / /             / {   /  /                                                                                                                          \n",
    "    / #\\________!___|/      /9  0000/    /  / / /_____________/___  /  /                                                                                                                           \n",
    "# Home Learning Tasks\n",
    "#### Python Fundamentals - Session 2\n",
    "______________________________________________________________________________________________________________________________________________"
   ]
  },
  {
   "cell_type": "markdown",
   "metadata": {},
   "source": [
    "##### K.I.S.S - Keep It Simple, Stupid | D.R.Y - Don't Repeat Yourself\n",
    "________________________________________________________________________________________________________\n",
    "\n",
    "#### Lesson Contents\n",
    "🌸Session 3: Python 2 | Tuesday, 01/02/2022\n",
    "\n",
    "• if, if else and else recap\n",
    "\n",
    "• imbedded tasks - if/loops\n",
    "\n",
    "• Logical Operator - and + or\n",
    "\n",
    "• Functions and Procedures\n",
    "\n",
    "• Parameter Passing - calling on others\n",
    "\n",
    "• Pseudocode - flow diagrams"
   ]
  },
  {
   "cell_type": "markdown",
   "metadata": {},
   "source": [
    "### Task 1\n",
    "\n",
    "Write a program that asks the user for an integer number and checks if it is > 10. If it is, it will print \"Number is greater than 10\", else \"Number is smaller than 10\".\n",
    "\n",
    "<img src=\"../images/task1flowchart.png\" />"
   ]
  },
  {
   "cell_type": "code",
   "execution_count": 1,
   "metadata": {},
   "outputs": [
    {
     "name": "stdout",
     "output_type": "stream",
     "text": [
      "Number is smaller than 10\n"
     ]
    }
   ],
   "source": [
    "user_input = int(input(\"Please enter a number\"))\n",
    "if user_input >= 10:\n",
    "    print(\"Number is greater than 10\")\n",
    "elif user_input <= 10:\n",
    "    print(\"Number is smaller than 10\")"
   ]
  },
  {
   "cell_type": "markdown",
   "metadata": {},
   "source": [
    "### Task 2\n",
    "\n",
    "Then write a loop program that asks the user for an integer number and check if it is < 10. If it is < 10 then it keeps adding 1 to the value.\n",
    "\n",
    "<img src=\"../Images\\task2flowchart.png\" />"
   ]
  },
  {
   "cell_type": "code",
   "execution_count": 1,
   "metadata": {},
   "outputs": [
    {
     "name": "stdout",
     "output_type": "stream",
     "text": [
      "This number is now 5\n",
      "This number is now 6\n",
      "This number is now 7\n",
      "This number is now 8\n",
      "This number is now 9\n",
      "This number is now 10\n",
      "This number is now 11\n",
      "Number is greater than 10\n"
     ]
    }
   ],
   "source": [
    "\n",
    "user_input = int(input(\"Please enter a number between 1-20\"))\n",
    "\n",
    "while user_input < 10:\n",
    "    user_input = user_input + 1\n",
    "    print(\"This number is now\", user_input + 1)\n",
    "\n",
    "else:\n",
    "    print(\"Number is greater than 10\")"
   ]
  },
  {
   "cell_type": "markdown",
   "metadata": {},
   "source": [
    "### Task 3\n",
    "\n",
    "Create your own Flow Diagram, a subject of your own choice, Example: Fast food order and convert it into code.\n",
    "\n",
    "Use: https://www.lucidchart.com/pages/ to create a flowchart and insert the image using <img src=\"./image-name.file-type\" /> ← (edit to reveal code)\n",
    "<img src=\"../images/PokemonCoding.png\" />"
   ]
  },
  {
   "cell_type": "code",
   "execution_count": 8,
   "metadata": {},
   "outputs": [
    {
     "name": "stdout",
     "output_type": "stream",
     "text": [
      "Wild RATTATA appeared! Go! Pikachu!\n",
      "You challenged RATTATA\n"
     ]
    }
   ],
   "source": [
    "print(\"Wild RATTATA appeared! Go! Pikachu!\")\n",
    "user_input = input(\"What will you do? Type fight, pokemon, item or run \")\n",
    "if user_input == \"fight\":\n",
    " print(\"You challenged RATTATA\")\n",
    "elif user_input == \"pokemon\":\n",
    " print(\"Sorry but you have no other Pokemon\")\n",
    "elif user_input == \"item\":\n",
    " print(\"You opened your bag but it's empty\")\n",
    "elif user_input == \"run\":\n",
    " print(\"You ran away\")"
   ]
  },
  {
   "cell_type": "markdown",
   "metadata": {},
   "source": [
    "### Task 4\n",
    "As an extension to the motorbike task that costs £2000 and loses 10% of its value every year. Set up a function that performs the calculation by passing in parameters. Then using a loop, print the value of the bike every following year until it falls below £1000."
   ]
  },
  {
   "cell_type": "code",
   "execution_count": 1,
   "metadata": {},
   "outputs": [],
   "source": [
    "#Original\n",
    "\n",
    "bikevalue = float(2000) \n",
    "\n",
    "while bikevalue > 1000:\n",
    "    print(\"The Value of the bike is now £\", bikevalue)\n",
    "    bikevalue = bikevalue * 0.9 \n"
   ]
  },
  {
   "cell_type": "code",
   "execution_count": 14,
   "metadata": {},
   "outputs": [
    {
     "name": "stdout",
     "output_type": "stream",
     "text": [
      "The Value of the bike is now £ 2000.0\n",
      "The Value of the bike is now £ 1800.0\n",
      "The Value of the bike is now £ 1620.0\n",
      "The Value of the bike is now £ 1458.0\n",
      "The Value of the bike is now £ 1312.2\n",
      "The Value of the bike is now £ 1180.98\n",
      "The Value of the bike is now £ 1062.882\n"
     ]
    }
   ],
   "source": [
    "#Extension\n",
    "\n",
    "def procedure() :\n",
    " bikevalue = float(input(\"Enter the starting price of the bike\"))\n",
    " while bikevalue > 1000:\n",
    "    print(\"The Value of the bike is now £\", bikevalue)\n",
    "    bikevalue = bikevalue * 0.9 \n",
    "\n",
    "procedure()\n",
    "    "
   ]
  },
  {
   "cell_type": "markdown",
   "metadata": {},
   "source": [
    "### Task 5\n",
    "Write a program which will ask for two numbers from a user. Then offer an option menu to the user giving them a choice of maths operators. Once the user has selected which operator they wish to use, perform the calculation by using a procedure and passing parameters."
   ]
  },
  {
   "cell_type": "code",
   "execution_count": 8,
   "metadata": {},
   "outputs": [
    {
     "name": "stdout",
     "output_type": "stream",
     "text": [
      "3 multiplied by 5 = 15\n"
     ]
    }
   ],
   "source": [
    "def calculator_procedure() :\n",
    " equation = input(\"Type + to add, - to subtract, * to multiply, / to divide\")\n",
    "\n",
    " if equation == \"+\":\n",
    "  print(input_num1, \"+\", input_num2, \"=\", (input_num1+input_num2))\n",
    " elif equation == \"-\":\n",
    "  print(input_num1, \"-\", input_num2, \"=\", (input_num1-input_num2))\n",
    " elif equation == \"*\":\n",
    "  print(input_num1, \"multiplied by\", input_num2, \"=\", (input_num1*input_num2))\n",
    " elif equation == \"/\":\n",
    "  print(input_num1, \"divided by\", input_num2, \"=\", (input_num1/input_num2))\n",
    " elif equation == \"**\":\n",
    "  print(input_num1, \"squared to the power of\", input_num2, \"=\", (input_num1**input_num2))\n",
    " else: input(\"Please try again\")\n",
    "\n",
    "input_num1 = int(input(\"Type the first number\"))\n",
    "input_num2 = int(input(\"Type the second number\"))\n",
    "\n",
    "calculator_procedure()"
   ]
  }
 ],
 "metadata": {
  "interpreter": {
   "hash": "4527cf33e35289af7e32c372203409dc20daf4b5cc0ec728c3c244caabf53a98"
  },
  "kernelspec": {
   "display_name": "Python 3.10.2 64-bit",
   "language": "python",
   "name": "python3"
  },
  "language_info": {
   "codemirror_mode": {
    "name": "ipython",
    "version": 3
   },
   "file_extension": ".py",
   "mimetype": "text/x-python",
   "name": "python",
   "nbconvert_exporter": "python",
   "pygments_lexer": "ipython3",
   "version": "3.10.2"
  },
  "orig_nbformat": 4
 },
 "nbformat": 4,
 "nbformat_minor": 2
}
