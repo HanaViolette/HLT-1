{
 "cells": [
  {
   "cell_type": "markdown",
   "metadata": {},
   "source": [
    "══════════════════════██════█████══════════════════════════════════════════════════════════════════════════════════════════════════════════════════════════════════════════════════════════════════\n",
    "═════════════════════█▒▒█═══█▒▒▒█══════════════════════════════════════════════════════════════════════════════════════════════════════════════════════════════════════════════════════════════════\n",
    "════════════════════█▒▒▒▒█══█▒▒▒█══════════════════════════════════════════════════════════════════════════════════════════════════════════════════════════════════════════════════════════════════\n",
    "══════════════════██▒▒▒▒▒▒█═█▒▒▒█══════════════════════════════════════════════════════════════════════════════════════════════════════════════════════════════════════════════════════════════════\n",
    "═════════════════█▒▒▒▒▒▒▒▒▒██▒▒▒█══════════════════════════════════════════════════════════════════════════════════════════════════════════════════════════════════════════════════════════════════\n",
    "════════════════█▒▒▒▒▒▒▒▒▒▒▒▒▒▒▒█══════════════════════════════════════════════════════════════════════════════════════════════════════════════════════════════════════════════════════════════════\n",
    "═══════════════█▒▒▒▒▒▒▒▒▒▒▒▒▒▒▒▒█══════════════════════════════════════════════════════════════════════════════════════════════════════════════════════════════════════════════════════════════════\n",
    "═════════════██▒▒▒▒▒▒▒▒▒▒▒▒▒▒▒▒▒█══════════════════════════════════════════════════════════════════════════════════════════════════════════════════════════════════════════════════════════════════\n",
    "════════════█▒▒▒▒▒▒▒▒▒▒▒▒▒▒▒▒▒▒▒██═════════════════════════════════════════════════════════════════════════════════════════════════════════════════════════════════════════════════════════════════\n",
    "═══════════█▒▒▒▒▒▒▒▒▒▒▒▒▒▒▒▒▒▒▒▒▒██════════════════════════════════════════════════════════════════════════════════════════════════════════════════════════════════════════════════════════════════\n",
    "═════════██▒▒▒▒▒▒▒▒▒▒▒▒▒▒▒▒▒▒▒▒▒▒▒▒█═══════════════════════════════════════════════════════════════════════════════════════════════════════════════════════════════════════════════════════════════\n",
    "════════█▒▒▒▒▒▒▒▒▒▒▒▒▒▒▒▒▒▒▒▒▒▒▒▒▒▒▒██═════════════════════════════════════════════════════════════════════════════════════════════════════════════════════════════════════════════════════════════\n",
    "═══════█▒▒▒▒▒▒▒▒▒▒▒▒▒▒▒▒▒▒▒▒▒▒▒▒▒▒▒▒▒▒█════════════════════════════════════════════════════════════════════════════════════════════════════════════════════════════════════════════════════════════\n",
    "══════█▒▒▒▒▒▒▒▒▒▒▒▒▒▒▒▒▒▒▒▒▒▒▒▒▒▒▒▒▒▒▒▒█═══════════════════════════════════════════════════════════════════════════════════════════════════════════════════════════════════════════════════════════\n",
    "═════██▒▒▒▒▒▒▒▒▒▒▒▒▒▒▒▒▒▒▒▒▒▒▒▒▒▒▒▒▒▒▒▒██══════════════════════════════════════════════════════════════════════════════════════════════════════════════════════════════════════════════════════════\n",
    "══════██▒█▒▒▒▒▒▒▒▒▒▒▒▒▒▒▒▒▒▒▒▒▒▒▒▒▒▒█▒██═══════════════════════════════════════════════════════════════════════════════════════════════════════════════════════════════════════════════════════════\n",
    "═══════███▒▒▒▒▒▒▒▒▒▒▒▒▒▒▒▒▒▒▒▒▒▒▒▒▒▒███════════════════════════════════════════════════════════════════════════════════════════════════════════════════════════════════════════════════════════════\n",
    "════════██▒▒▒▒▒██████▒▒▒▒████████▒▒▒██═════════════════════════════════════════════════════════════════════════════════════════════════════════════════════════════════════════════════════════════\n",
    "═════════█▒▒▒▒▒██████▒▒▒▒████████▒▒▒█══════════════════════════════════════════════════════════════════════════════════════════════════════════════════════════════════════════════════════════════\n",
    "═════════█▒▒▒▒▒██████▒▒▒▒████████▒▒▒█══════════════════════════════════════════════════════════════════════════════════════════════════════════════════════════════════════════════════════════════\n",
    "═════════█▒▒▒▒▒██████▒▒▒▒████████▒▒▒█══════════════════════════════════════════════════════════════════════════════════════════════════════════════════════════════════════════════════════════════\n",
    "═════════█▒▒▒▒▒██████▒▒▒▒████████▒▒▒█══════════════════════════════════════════════════════════════════════════════════════════════════════════════════════════════════════════════════════════════\n",
    "██████████▒▒▒▒▒██████▒▒▒▒████████▒▒▒███████████████████████████████████████████████████████████████████████████████████████████████████████████████████████████████████████████████████████████████\n",
    "██████████▒▒▒▒▒██████▒▒▒▒▒▒▒▒▒▒▒▒▒▒▒███████████████████████████████████████████████████████████████████████████████████████████████████████████████████████████████████████████████████████████████\n",
    "██████████▒▒▒▒▒██████▒▒▒▒▒▒▒▒▒▒▒▒▒▒▒███████████████████████████████████████████████████████████████████████████████████████████████████████████████████████████████████████████████████████████████\n",
    "███████████████████████████████████████████████████████████████████████████████████████████████████████████████████████████████████████████████████████████████████████████████████████████████████\n",
    "# Home Learning Tasks"
   ]
  },
  {
   "cell_type": "markdown",
   "metadata": {},
   "source": [
    "#### Python Fundamentals - Session 1"
   ]
  },
  {
   "cell_type": "markdown",
   "metadata": {},
   "source": [
    "### Task 1\n",
    "\n",
    "Write a program that does the following:\n",
    "\n",
    "a) Stores a random number (1-10) in a variable.\n",
    "\n",
    "b) Asks a user for their name and stores this in a variable.\n",
    "\n",
    "c) Asks a user to guess the number between 1 and 10.\n",
    "\n",
    "d) Tells the user whether they have guessed correctly."
   ]
  },
  {
   "cell_type": "code",
   "execution_count": 15,
   "metadata": {},
   "outputs": [
    {
     "name": "stdout",
     "output_type": "stream",
     "text": [
      "Hello Violette! Now let's play a game, I am thinking of a number between 1 and 10\n",
      "Wow! you must be a guessing pro, Good job Violette here's a virtual cookie!\n"
     ]
    }
   ],
   "source": [
    "import random\n",
    "user_input = input(\"Hello there!, Welcome to my first Github post, first, tell me a little about yourself, what is your name?\")\n",
    "print(\"Hello\", user_input + \"!\", \"Now let's play a game, I am thinking of a number between 1 and 10\")\n",
    "\n",
    "randomnumber = random.randint(1,10)\n",
    "guess = int(input(\"Can you guess which one it is?\"))\n",
    "if guess == randomnumber:\n",
    " print(\"Wow! you must be a guessing pro, Good job \" + user_input + \" here's a virtual cookie!\")\n",
    "else: print(\"OOF, sorry, that's not quite right, better luck next time\")\n"
   ]
  },
  {
   "cell_type": "markdown",
   "metadata": {},
   "source": [
    "### Task 2\n",
    "\n",
    "Write a program that asks a user for their favourite number between 1 and 100 and then tells them a joke based on the number. You should use a minimum of 3 jokes."
   ]
  },
  {
   "cell_type": "code",
   "execution_count": 51,
   "metadata": {},
   "outputs": [
    {
     "name": "stdout",
     "output_type": "stream",
     "text": [
      "Ok let's try something else, pick a number between 1-100 and I'll tell you a joke\n",
      "My dog used to chase people on a bike a lot. It got so bad, I had to take his bike away.\n"
     ]
    }
   ],
   "source": [
    "print(\"Ok let's try something else, pick a number between 1-100 and I'll tell you a joke\")\n",
    "guess = int(input(\"Choose a number\"))\n",
    "if guess <= 0:\n",
    "    print(\"That number is too low, please type a number between 1-100\")\n",
    "elif guess <= 30:\n",
    " print(\"My dog used to chase people on a bike a lot. It got so bad, I had to take his bike away.\")\n",
    "elif guess <= 60:\n",
    " print(\"What's the best thing about Switzerland? I don't know but the flag is a big plus.\")\n",
    "elif guess <= 100:\n",
    " print(\"What do you call cheese that is not your own? Nacho Cheese\")\n",
    "else: int(input(\"Please choose a number between 1-100\"))"
   ]
  },
  {
   "cell_type": "markdown",
   "metadata": {},
   "source": [
    "### Task 3\n",
    "\n",
    "Write a program that allows user to enter their favourite starter, main course, dessert and drink.\n",
    "\n",
    "Concatenate these and output a message which says - \"Your favourite meal is ...with a glass of...\""
   ]
  },
  {
   "cell_type": "code",
   "execution_count": 56,
   "metadata": {},
   "outputs": [
    {
     "name": "stdout",
     "output_type": "stream",
     "text": [
      "Thank you for being patient with those bad jokes, as a reward I'll buy you a McDonalds, tell me what you'd like and I'll even buy you a mcflurry\n",
      "Here you go, here's your chicken legend with fries and a vanilla milkshake and a smarties mcflurry for dessert.\n"
     ]
    }
   ],
   "source": [
    "print(\"Thank you for being patient with those bad jokes, as a reward I'll buy you a McDonalds, tell me what you'd like and I'll even buy you a mcflurry\")\n",
    "user_input_main = input(\"What is your preffered main?\")\n",
    "user_input_side = input(\"pick a side\")\n",
    "user_input_drink = input(\"choose a drink\")\n",
    "user_input_mcflurry = input(\"finally, what mcflurry would you like?\")\n",
    "\n",
    "print(\"Here you go, here's your \" + user_input_main + \" with \" + user_input_side + \" and a \" + user_input_drink + \" and a \" + user_input_mcflurry + \" mcflurry for dessert.\")"
   ]
  },
  {
   "cell_type": "markdown",
   "metadata": {},
   "source": [
    "### Task 4\n",
    "\n",
    "A motorbike costs £2000 and loses 10% of it's value every year. Using a loop, print the value of the bike every following year until it falls below £1000."
   ]
  },
  {
   "cell_type": "code",
   "execution_count": 7,
   "metadata": {},
   "outputs": [
    {
     "name": "stdout",
     "output_type": "stream",
     "text": [
      "The Value of the bike is now £ 2000.0\n",
      "The Value of the bike is now £ 1800.0\n",
      "The Value of the bike is now £ 1620.0\n",
      "The Value of the bike is now £ 1458.0\n",
      "The Value of the bike is now £ 1312.2\n",
      "The Value of the bike is now £ 1180.98\n",
      "The Value of the bike is now £ 1062.882\n"
     ]
    }
   ],
   "source": [
    "bikevalue = float(2000) \n",
    "\n",
    "while bikevalue > 1000:\n",
    "    print(\"The Value of the bike is now £\", bikevalue)\n",
    "    bikevalue = bikevalue * 0.9 "
   ]
  },
  {
   "cell_type": "markdown",
   "metadata": {},
   "source": [
    "### Task 5\n",
    "\n",
    "Write a program which will ask for two numbers from a user. Then offer a menu to the user giving them a choice of operator:\n",
    "\n",
    "e.g. - Enter \"a\" if you want to add OR \"b\" if you want to subtract\n",
    "\n",
    "Include + - / * ** square (to the power of). Once the user has selected which operator they wish to use. perform the calculation."
   ]
  },
  {
   "cell_type": "code",
   "execution_count": 51,
   "metadata": {},
   "outputs": [
    {
     "name": "stdout",
     "output_type": "stream",
     "text": [
      "3 squared to the power of 4 = 81\n"
     ]
    }
   ],
   "source": [
    "input_num1 = int(input(\"Type the first number\"))\n",
    "input_num2 = int(input(\"Type the second number\"))\n",
    "\n",
    "equation = input(\"Type + to add, - to subtract, * to multiply, / to divide\")\n",
    "\n",
    "if equation == \"+\":\n",
    " print(input_num1, \"+\", input_num2, \"=\", (input_num1+input_num2))\n",
    "elif equation == \"-\":\n",
    " print(input_num1, \"-\", input_num2, \"=\", (input_num1-input_num2))\n",
    "elif equation == \"*\":\n",
    " print(input_num1, \"multiplied by\", input_num2, \"=\", (input_num1*input_num2))\n",
    "elif equation == \"/\":\n",
    " print(input_num1, \"divided by\", input_num2, \"=\", (input_num1/input_num2))\n",
    "elif equation == \"**\":\n",
    " print(input_num1, \"squared to the power of\", input_num2, \"=\", (input_num1**input_num2))\n",
    "else: input(\"Please try again\")"
   ]
  }
 ],
 "metadata": {
  "interpreter": {
   "hash": "4527cf33e35289af7e32c372203409dc20daf4b5cc0ec728c3c244caabf53a98"
  },
  "kernelspec": {
   "display_name": "Python 3.10.2 64-bit",
   "language": "python",
   "name": "python3"
  },
  "language_info": {
   "codemirror_mode": {
    "name": "ipython",
    "version": 3
   },
   "file_extension": ".py",
   "mimetype": "text/x-python",
   "name": "python",
   "nbconvert_exporter": "python",
   "pygments_lexer": "ipython3",
   "version": "3.10.2"
  },
  "orig_nbformat": 4
 },
 "nbformat": 4,
 "nbformat_minor": 2
}
