{
 "cells": [
  {
   "cell_type": "markdown",
   "metadata": {},
   "source": [
    "<img src=\"../Images/PixelPC.gif\" />"
   ]
  },
  {
   "cell_type": "markdown",
   "metadata": {},
   "source": [
    "# Home Learning Tasks\n",
    "#### 🌸Session 5: NumPy | Tuesday, 08/02/2022\n",
    "\n",
    "_________________________________________________________________________________________________________________"
   ]
  },
  {
   "cell_type": "markdown",
   "metadata": {},
   "source": [
    "### Lesson Contents\n",
    "\n",
    "- What is NumPy?\n",
    "- Using the NumPy Library\n",
    "- Lists v Arrays\n",
    "- Slicing Arrays\n",
    "\n",
    "_________________________________________________________________________________________________________________________"
   ]
  },
  {
   "cell_type": "markdown",
   "metadata": {},
   "source": [
    "<img src=\"../Images/NumPy_logo_small.png\" />\n",
    "\n",
    "\"NumPy is a library for the Python programming language, adding support for large, multi-dimensional arrays and matrices, along with a large collection of high-level mathematical functions to operate on these arrays.\""
   ]
  },
  {
   "cell_type": "markdown",
   "metadata": {},
   "source": [
    "##### ***1.Create a 1D array of numbers from 0 to 9***"
   ]
  },
  {
   "cell_type": "code",
   "execution_count": 2,
   "metadata": {},
   "outputs": [],
   "source": [
    "import numpy as np"
   ]
  },
  {
   "cell_type": "code",
   "execution_count": 33,
   "metadata": {},
   "outputs": [
    {
     "name": "stdout",
     "output_type": "stream",
     "text": [
      "[0 1 2 3 4 5 6 7 8 9]\n"
     ]
    }
   ],
   "source": [
    "list = np.array([0,1,2,3,4,5,6,7,8,9])\n",
    "print(list)"
   ]
  },
  {
   "cell_type": "code",
   "execution_count": 34,
   "metadata": {},
   "outputs": [
    {
     "name": "stdout",
     "output_type": "stream",
     "text": [
      "[0 1 2 3 4 5 6 7 8 9]\n"
     ]
    }
   ],
   "source": [
    "list = np.arange(10)\n",
    "print(list)"
   ]
  },
  {
   "cell_type": "markdown",
   "metadata": {},
   "source": [
    "##### ***2.Create a 3×3 NumPy array of all Boolean value Trues***"
   ]
  },
  {
   "cell_type": "code",
   "execution_count": 35,
   "metadata": {},
   "outputs": [
    {
     "name": "stdout",
     "output_type": "stream",
     "text": [
      "[[1. 1. 1.]\n",
      " [1. 1. 1.]\n",
      " [1. 1. 1.]]\n"
     ]
    }
   ],
   "source": [
    "array1s = np.ones(9).reshape(3,3)\n",
    "print(array1s)"
   ]
  },
  {
   "cell_type": "code",
   "execution_count": 36,
   "metadata": {},
   "outputs": [
    {
     "name": "stdout",
     "output_type": "stream",
     "text": [
      "[[False False False]\n",
      " [False False False]\n",
      " [False False False]]\n"
     ]
    }
   ],
   "source": [
    "arraybool = np.zeros([3,3], dtype=bool)\n",
    "print(arraybool)"
   ]
  },
  {
   "cell_type": "code",
   "execution_count": 37,
   "metadata": {},
   "outputs": [
    {
     "name": "stdout",
     "output_type": "stream",
     "text": [
      "[[ True  True  True]\n",
      " [ True  True  True]\n",
      " [ True  True  True]]\n"
     ]
    }
   ],
   "source": [
    "arraybool = np.ones([3,3], dtype=bool)\n",
    "print(arraybool)"
   ]
  },
  {
   "cell_type": "markdown",
   "metadata": {},
   "source": [
    "##### ***3.Extract all odd numbers from array of 1-10***"
   ]
  },
  {
   "cell_type": "code",
   "execution_count": 38,
   "metadata": {},
   "outputs": [
    {
     "name": "stdout",
     "output_type": "stream",
     "text": [
      "Even number(s): [ 2  4  6  8 10]\n"
     ]
    }
   ],
   "source": [
    "list = np.array([1,2,3,4,5,6,7,8,9,10])\n",
    "print(\"Even number(s):\", list[1::2])"
   ]
  },
  {
   "cell_type": "code",
   "execution_count": 39,
   "metadata": {},
   "outputs": [
    {
     "name": "stdout",
     "output_type": "stream",
     "text": [
      "Odd number(s): [1 3 5 7 9]\n"
     ]
    }
   ],
   "source": [
    "arrayList = np.array([1,2,3,4,5,6,7,8,9,10])\n",
    "print(\"Odd number(s):\", list[arrayList % 2 != 0])"
   ]
  },
  {
   "cell_type": "markdown",
   "metadata": {},
   "source": [
    "##### ***4.Replace all odd numbers in an array of 1-10 with the value -1***"
   ]
  },
  {
   "cell_type": "code",
   "execution_count": 43,
   "metadata": {},
   "outputs": [
    {
     "name": "stdout",
     "output_type": "stream",
     "text": [
      "[-1  2 -1  4 -1  6 -1  8 -1 10]\n"
     ]
    }
   ],
   "source": [
    "arrayxList = np.array([1,2,3,4,5,6,7,8,9,10])\n",
    "for i in range(len(arrayxList)):                              #len = length\n",
    "    if arrayxList[i] % 2 != 0:\n",
    "        arrayxList[i] = -1\n",
    "\n",
    "print(arrayxList)"
   ]
  },
  {
   "cell_type": "markdown",
   "metadata": {},
   "source": [
    "##### ***5.Convert a 1D array to a 2D array with 2 rows***"
   ]
  },
  {
   "cell_type": "code",
   "execution_count": 41,
   "metadata": {},
   "outputs": [
    {
     "name": "stdout",
     "output_type": "stream",
     "text": [
      "[[ 1  2  3  4  5]\n",
      " [ 6  7  8  9 10]]\n"
     ]
    }
   ],
   "source": [
    "array1D = np.array([1, 2, 3, 4, 5, 6, 7, 8, 9, 10])\n",
    "\n",
    "array2D = array1D.reshape(2, 5) \n",
    "\n",
    "print(array2D)"
   ]
  },
  {
   "cell_type": "markdown",
   "metadata": {},
   "source": [
    "##### ***6.Create two arrays a and b, stack these two arrays vertically. Use the  np.dot and np.sum to calculatetotals*** 🚩"
   ]
  },
  {
   "cell_type": "code",
   "execution_count": 6,
   "metadata": {},
   "outputs": [
    {
     "name": "stdout",
     "output_type": "stream",
     "text": [
      "[[ 84  90  96]\n",
      " [201 216 231]\n",
      " [318 342 366]]\n",
      "[ 270  648 1026]\n"
     ]
    }
   ],
   "source": [
    "a = np.arange(1,10).reshape(3,3)\n",
    "b = np.arange(10,19).reshape(3,3)\n",
    "c = np.dot(a,b)\n",
    "print(c)\n",
    "d = np.sum(c,axis = 1)\n",
    "print(d)\n",
    "\n"
   ]
  },
  {
   "cell_type": "markdown",
   "metadata": {},
   "source": [
    "##### ***Extension:***  🚩\n",
    "\n",
    "1.Create the following pattern without hardcoding. Use only NumPy  functions. #array([1,1,1,2,2,2,3,3,3,1,2,3,1,2,3,1,2,3])\n",
    "\n",
    "2.In two arrays a ( 1,2,3,4,5) and b ( 4,5,6,7,8,9) –remove allrepeating  items present in arrayb\n",
    "\n",
    "3.Get all items between 3 and 7 from a and b and sum themtogether"
   ]
  },
  {
   "cell_type": "code",
   "execution_count": 4,
   "metadata": {},
   "outputs": [
    {
     "name": "stdout",
     "output_type": "stream",
     "text": [
      "[1 2 3]\n",
      "[1 2 3 1 2 3 1 2 3]\n",
      "[1. 1. 1. 2. 2. 2. 3. 3. 3. 1. 2. 3. 1. 2. 3. 1. 2. 3.]\n"
     ]
    }
   ],
   "source": [
    "# Don't hard code basically means, you should rely on your code, your logic, your program, and you should not write things out by hand or do computation in your head.\n",
    "\n",
    "one = np.ones(3)\n",
    "two = one + one\n",
    "three = one * 3\n",
    "\n",
    "repeat = np.arange(1,4)\n",
    "print(repeat)\n",
    "tile = np.tile(repeat, 3)\n",
    "print(tile)\n",
    "final = np.concatenate((one, two, three, tile))\n",
    "print(final)"
   ]
  }
 ],
 "metadata": {
  "interpreter": {
   "hash": "4527cf33e35289af7e32c372203409dc20daf4b5cc0ec728c3c244caabf53a98"
  },
  "kernelspec": {
   "display_name": "Python 3.10.2 64-bit",
   "language": "python",
   "name": "python3"
  },
  "language_info": {
   "codemirror_mode": {
    "name": "ipython",
    "version": 3
   },
   "file_extension": ".py",
   "mimetype": "text/x-python",
   "name": "python",
   "nbconvert_exporter": "python",
   "pygments_lexer": "ipython3",
   "version": "3.10.2"
  },
  "orig_nbformat": 4
 },
 "nbformat": 4,
 "nbformat_minor": 2
}
