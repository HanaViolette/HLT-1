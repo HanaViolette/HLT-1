{
 "cells": [
  {
   "cell_type": "markdown",
   "metadata": {},
   "source": [
    "# Home Learning Tasks\n",
    "#### 🌸Session 12: R Studio | Thursday, 22/03/2022"
   ]
  },
  {
   "cell_type": "markdown",
   "metadata": {},
   "source": [
    "### Task 1\n",
    "\n",
    "Write an R program to create three vectors a, b, c with 5 integers. \n",
    "Combine the three vectors to become a 3×5 matrix where each column represents a vector.\n",
    "Print the content of the matrix. \n",
    "Plot a graph and label correctly."
   ]
  },
  {
   "cell_type": "code",
   "execution_count": 3,
   "metadata": {},
   "outputs": [],
   "source": [
    "m1 = matrix(1:15, nrow=5, ncol=3)\n",
    "print(\"5 × 3 matrix:\")\n",
    "print(m1)"
   ]
  },
  {
   "cell_type": "code",
   "execution_count": null,
   "metadata": {},
   "outputs": [],
   "source": [
    "#c = combine data\n",
    "cnames = c(\"A\", \"B\",\"C\")"
   ]
  },
  {
   "cell_type": "code",
   "execution_count": null,
   "metadata": {},
   "outputs": [],
   "source": [
    "A <- c(1,2,3,4,5)\n",
    "B <- c(6,7,8,9,10)\n",
    "C <- c(11,12,13,14,15)\n",
    "\n",
    "ABC <- c(A,B,C)\n",
    "plot(ABC)"
   ]
  },
  {
   "cell_type": "markdown",
   "metadata": {},
   "source": [
    "<img src=\"../Images/RStudiot1-1.png\" />"
   ]
  },
  {
   "cell_type": "markdown",
   "metadata": {},
   "source": [
    "<img src=\"../Images/RStudiot1-2.png\" />"
   ]
  },
  {
   "cell_type": "markdown",
   "metadata": {},
   "source": [
    "<img src=\"../Images/RStudiot1-3.png\" />"
   ]
  },
  {
   "cell_type": "markdown",
   "metadata": {},
   "source": [
    "### Task 2\n",
    "\n",
    "Write a R program to create a Data frames which contain details of 5 employees and display the details.\n",
    "(Name, Age, Role and Length of service). "
   ]
  },
  {
   "cell_type": "code",
   "execution_count": 1,
   "metadata": {},
   "outputs": [],
   "source": [
    "Name <- c(\"John\", \"Jane\", \"Jack\", \"Mary\", \"Mark\")\n",
    "Age <- c(26, 23, 32, 41, 20)\n",
    "Role <- c(\"Manager\", \"Assistant Manager\", \"Team Leader\", \"Assistant\", \"Trainee\")\n",
    "LoS <- c(4, 2, 5, 1, 0)\n",
    "\n",
    "df <- data.frame(Name, Age, Role, LoS)\n",
    "\n",
    "Print (df)"
   ]
  },
  {
   "cell_type": "markdown",
   "metadata": {},
   "source": [
    "<img src=\"../Images/RStudiot2.png\" />"
   ]
  },
  {
   "cell_type": "markdown",
   "metadata": {},
   "source": [
    "### Task 3\n",
    "\n",
    "Import the GGPLOT 2 library and plot a graph using the qplot function. \n",
    "\n",
    "X axis is the sequence of 1:20 and the y axis is the x ^ 2.  \n",
    "\n",
    "Label the graph appropriately. \n",
    "\n",
    "install.packages(\"ggplot2\", dependencies = TRUE)"
   ]
  },
  {
   "cell_type": "code",
   "execution_count": 4,
   "metadata": {},
   "outputs": [],
   "source": [
    "install.packages(\"ggplot2\", dependencies = TRUE)\n",
    "library(ggplot2)\n",
    "\n",
    "data(package = \"ggplot2\")\n",
    "\n",
    "ggplot2::msleep\n",
    "\n",
    "qplot(data = msleep, x = order, y = sleep_total, geom = \"point\", color = vore)"
   ]
  },
  {
   "cell_type": "markdown",
   "metadata": {},
   "source": [
    "<img src=\"../Images/RStudiot3-2.png\" />"
   ]
  },
  {
   "cell_type": "markdown",
   "metadata": {},
   "source": [
    "<img src=\"../Images/RStudiot3-3.png\" />"
   ]
  },
  {
   "cell_type": "markdown",
   "metadata": {},
   "source": [
    "### Task 4\n",
    "\n",
    "Create a simple bar plot of five subjects"
   ]
  },
  {
   "cell_type": "code",
   "execution_count": 5,
   "metadata": {},
   "outputs": [],
   "source": [
    "ReviewRating <- c(7,5,8,2,5)\n",
    "\n",
    "barplot(ReviewRating,\n",
    "main = \"Holiday Destinations Rating\",\n",
    "xlab = \"Rating\",\n",
    "ylab = \"Destination\",\n",
    "names.arg = c(\"Port\", \"Spa\", \"Fra\", \"Scot\", \"Eng\"),\n",
    "col = \"purple\")"
   ]
  },
  {
   "cell_type": "markdown",
   "metadata": {},
   "source": [
    "<img src=\"../Images/RStudiot4.png\" />"
   ]
  }
 ],
 "metadata": {
  "interpreter": {
   "hash": "4527cf33e35289af7e32c372203409dc20daf4b5cc0ec728c3c244caabf53a98"
  },
  "kernelspec": {
   "display_name": "Python 3.10.2 64-bit",
   "language": "python",
   "name": "python3"
  },
  "language_info": {
   "codemirror_mode": {
    "name": "ipython",
    "version": 3
   },
   "file_extension": ".py",
   "mimetype": "text/x-python",
   "name": "python",
   "nbconvert_exporter": "python",
   "pygments_lexer": "ipython3",
   "version": "3.10.2"
  },
  "orig_nbformat": 4
 },
 "nbformat": 4,
 "nbformat_minor": 2
}
