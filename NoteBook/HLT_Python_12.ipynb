{
 "cells": [
  {
   "cell_type": "markdown",
   "metadata": {},
   "source": [
    "# Home Learning Tasks\n",
    "#### 🌸Session 12: R Studio | Thursday, 22/03/2022"
   ]
  },
  {
   "cell_type": "markdown",
   "metadata": {},
   "source": [
    "### Task 1\n",
    "\n",
    "Write an R program to create three vectors a, b, c with 5 integers. \n",
    "Combine the three vectors to become a 3×5 matrix where each column represents a vector.\n",
    "Print the content of the matrix. \n",
    "Plot a graph and label correctly."
   ]
  },
  {
   "cell_type": "code",
   "execution_count": 3,
   "metadata": {},
   "outputs": [],
   "source": [
    "#placeholder"
   ]
  },
  {
   "cell_type": "markdown",
   "metadata": {},
   "source": [
    "### Task 2\n",
    "\n",
    "Write a R program to create a Data frames which contain details of 5 employees and display the details.\n",
    "(Name, Age, Role and Length of service). "
   ]
  },
  {
   "cell_type": "code",
   "execution_count": 1,
   "metadata": {},
   "outputs": [],
   "source": [
    "#placeholder"
   ]
  },
  {
   "cell_type": "markdown",
   "metadata": {},
   "source": [
    "### Task 3\n",
    "\n",
    "Import the GGPLOT 2 library and plot a graph using the qplotfunction. \n",
    "X axis is the sequence of 1:20 and the y axis is the x ^ 2.  \n",
    "Label the graph appropriately. \n",
    "install.packages(\"ggplot2\", dependencies = TRUE)"
   ]
  },
  {
   "cell_type": "code",
   "execution_count": 4,
   "metadata": {},
   "outputs": [],
   "source": [
    "#placeholder"
   ]
  },
  {
   "cell_type": "markdown",
   "metadata": {},
   "source": [
    "### Task 4\n",
    "\n",
    "Create a simple bar plot of five subjects"
   ]
  },
  {
   "cell_type": "code",
   "execution_count": 5,
   "metadata": {},
   "outputs": [],
   "source": [
    "#placeholder"
   ]
  }
 ],
 "metadata": {
  "interpreter": {
   "hash": "4527cf33e35289af7e32c372203409dc20daf4b5cc0ec728c3c244caabf53a98"
  },
  "kernelspec": {
   "display_name": "Python 3.10.2 64-bit",
   "language": "python",
   "name": "python3"
  },
  "language_info": {
   "codemirror_mode": {
    "name": "ipython",
    "version": 3
   },
   "file_extension": ".py",
   "mimetype": "text/x-python",
   "name": "python",
   "nbconvert_exporter": "python",
   "pygments_lexer": "ipython3",
   "version": "3.10.2"
  },
  "orig_nbformat": 4
 },
 "nbformat": 4,
 "nbformat_minor": 2
}
