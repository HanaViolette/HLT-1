{
 "cells": [
  {
   "cell_type": "markdown",
   "metadata": {},
   "source": [
    "<img src=\"../Images/ML.gif\" />"
   ]
  },
  {
   "cell_type": "markdown",
   "metadata": {},
   "source": [
    "# Home Learning Tasks\n",
    "#### 🌸Session 8: Machine Learning and Scikit Learn + Power BI | Thursday, 17/02/2022\n",
    "_____________________________________________________________________________________________________________________"
   ]
  },
  {
   "cell_type": "markdown",
   "metadata": {},
   "source": [
    "### Lesson Contents\n",
    "\n",
    "- What is an Algorithm?\n",
    "- What is Machine Learning?\n",
    "- Different types of Learning\n",
    "- The maths behind Machine Learning\n",
    "- Algorithms used in Machine Learning Model\n",
    "- What is Sci-kit learn?\n",
    "- Loading datasets\n",
    "- exploring the data\n",
    "- reusable code\n",
    "- matplotlib data visualisation\n",
    "- scatterplot\n"
   ]
  },
  {
   "cell_type": "markdown",
   "metadata": {},
   "source": [
    "### Common Machine Learning Algorithms\n",
    "📌 Linear Regression \n",
    "\n",
    "📌 Logistic Regression \n",
    "\n",
    "📌 Decision Tree \n",
    "\n",
    "📌 SVM (Support Vector Machine) \n",
    "\n",
    "📌 Naive Bayes \n",
    "\n",
    "📌 KNN (K-Nearest Neighbours) \n",
    "\n",
    "📌 K-Means \n",
    "\n",
    "📌 Random Forest\n",
    "\n",
    "### Task 1\n",
    "Select one or more choices from the list of ***Common Machine Learning Algorithms***, do some investigations and write me a short summary. I am looking for the following:\n",
    "\n",
    "•Is it Supervised/Unsupervised/Reinforcement learning?\n",
    "\n",
    "•What does the algorithm do?\n",
    "\n",
    "•In which situations will it be most useful?\n",
    "\n",
    "•(Optional) Can you find any examples of where this algorithm has been used?"
   ]
  },
  {
   "cell_type": "markdown",
   "metadata": {},
   "source": [
    "### Task 2\n",
    "\n",
    "https://stackabuse.com/linear-regression-in-python-with-scikit-learn/\n",
    "\n",
    "From this website select follow and complete the Linear Regression Model."
   ]
  },
  {
   "cell_type": "code",
   "execution_count": null,
   "metadata": {},
   "outputs": [],
   "source": []
  }
 ],
 "metadata": {
  "language_info": {
   "name": "python"
  },
  "orig_nbformat": 4
 },
 "nbformat": 4,
 "nbformat_minor": 2
}
