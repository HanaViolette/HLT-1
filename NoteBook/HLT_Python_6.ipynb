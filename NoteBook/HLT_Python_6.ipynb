{
 "cells": [
  {
   "cell_type": "markdown",
   "metadata": {},
   "source": [
    "# Home Learning Tasks\n",
    "#### Python Fundamentals - Session 6: Data Visualisation\n",
    "_____________________________________________________________________________________________________________________"
   ]
  },
  {
   "cell_type": "markdown",
   "metadata": {},
   "source": [
    "### Lesson Contents\n",
    "\n",
    "- Data Visualisation Theory\n",
    "- Data Types\n",
    "- Decomposing Colour\n",
    "- Memory Term\n",
    "- Recognition vs Recall\n",
    "- Function over form\n",
    "- Dynamic Data and Multiple Views\n",
    "- Creating Visualisations using Altair\n",
    "- Terminal or Command Prompt\n",
    "- Anaconda\n",
    "- Altair Charts\n",
    "________________________________________________________________________________________________________________________________________________________________________________________"
   ]
  },
  {
   "cell_type": "code",
   "execution_count": 5,
   "metadata": {},
   "outputs": [
    {
     "name": "stdout",
     "output_type": "stream",
     "text": [
      "Requirement already satisfied: altair in c:\\users\\hanna\\appdata\\local\\programs\\python\\python310\\lib\\site-packages (4.2.0)\n",
      "Requirement already satisfied: numpy in c:\\users\\hanna\\appdata\\local\\programs\\python\\python310\\lib\\site-packages (from altair) (1.22.2)\n",
      "Requirement already satisfied: entrypoints in c:\\users\\hanna\\appdata\\local\\programs\\python\\python310\\lib\\site-packages (from altair) (0.3)\n",
      "Requirement already satisfied: jinja2 in c:\\users\\hanna\\appdata\\local\\programs\\python\\python310\\lib\\site-packages (from altair) (3.0.3)\n",
      "Requirement already satisfied: toolz in c:\\users\\hanna\\appdata\\local\\programs\\python\\python310\\lib\\site-packages (from altair) (0.11.2)\n",
      "Requirement already satisfied: pandas>=0.18 in c:\\users\\hanna\\appdata\\local\\programs\\python\\python310\\lib\\site-packages (from altair) (1.4.0)\n",
      "Requirement already satisfied: jsonschema>=3.0 in c:\\users\\hanna\\appdata\\local\\programs\\python\\python310\\lib\\site-packages (from altair) (4.4.0)\n",
      "Requirement already satisfied: pyrsistent!=0.17.0,!=0.17.1,!=0.17.2,>=0.14.0 in c:\\users\\hanna\\appdata\\local\\programs\\python\\python310\\lib\\site-packages (from jsonschema>=3.0->altair) (0.18.1)\n",
      "Requirement already satisfied: attrs>=17.4.0 in c:\\users\\hanna\\appdata\\local\\programs\\python\\python310\\lib\\site-packages (from jsonschema>=3.0->altair) (21.4.0)\n",
      "Requirement already satisfied: pytz>=2020.1 in c:\\users\\hanna\\appdata\\local\\programs\\python\\python310\\lib\\site-packages (from pandas>=0.18->altair) (2021.3)\n",
      "Requirement already satisfied: python-dateutil>=2.8.1 in c:\\users\\hanna\\appdata\\local\\programs\\python\\python310\\lib\\site-packages (from pandas>=0.18->altair) (2.8.2)\n",
      "Requirement already satisfied: six>=1.5 in c:\\users\\hanna\\appdata\\local\\programs\\python\\python310\\lib\\site-packages (from python-dateutil>=2.8.1->pandas>=0.18->altair) (1.16.0)\n",
      "Requirement already satisfied: MarkupSafe>=2.0 in c:\\users\\hanna\\appdata\\local\\programs\\python\\python310\\lib\\site-packages (from jinja2->altair) (2.0.1)\n",
      "Note: you may need to restart the kernel to use updated packages.\n"
     ]
    },
    {
     "name": "stderr",
     "output_type": "stream",
     "text": [
      "WARNING: You are using pip version 21.2.4; however, version 22.0.3 is available.\n",
      "You should consider upgrading via the 'C:\\Users\\Hanna\\AppData\\Local\\Programs\\Python\\Python310\\python.exe -m pip install --upgrade pip' command.\n"
     ]
    }
   ],
   "source": [
    "%pip install altair"
   ]
  },
  {
   "cell_type": "code",
   "execution_count": 6,
   "metadata": {},
   "outputs": [
    {
     "name": "stdout",
     "output_type": "stream",
     "text": [
      "Requirement already satisfied: altair in c:\\users\\hanna\\appdata\\local\\programs\\python\\python310\\lib\\site-packages (4.2.0)\n",
      "Requirement already satisfied: vega_datasets in c:\\users\\hanna\\appdata\\local\\programs\\python\\python310\\lib\\site-packages (0.9.0)\n",
      "Requirement already satisfied: jinja2 in c:\\users\\hanna\\appdata\\local\\programs\\python\\python310\\lib\\site-packages (from altair) (3.0.3)\n",
      "Requirement already satisfied: jsonschema>=3.0 in c:\\users\\hanna\\appdata\\local\\programs\\python\\python310\\lib\\site-packages (from altair) (4.4.0)\n",
      "Requirement already satisfied: toolz in c:\\users\\hanna\\appdata\\local\\programs\\python\\python310\\lib\\site-packages (from altair) (0.11.2)\n",
      "Requirement already satisfied: pandas>=0.18 in c:\\users\\hanna\\appdata\\local\\programs\\python\\python310\\lib\\site-packages (from altair) (1.4.0)\n",
      "Requirement already satisfied: numpy in c:\\users\\hanna\\appdata\\local\\programs\\python\\python310\\lib\\site-packages (from altair) (1.22.2)\n",
      "Requirement already satisfied: entrypoints in c:\\users\\hanna\\appdata\\local\\programs\\python\\python310\\lib\\site-packages (from altair) (0.3)\n",
      "Requirement already satisfied: pyrsistent!=0.17.0,!=0.17.1,!=0.17.2,>=0.14.0 in c:\\users\\hanna\\appdata\\local\\programs\\python\\python310\\lib\\site-packages (from jsonschema>=3.0->altair) (0.18.1)\n",
      "Requirement already satisfied: attrs>=17.4.0 in c:\\users\\hanna\\appdata\\local\\programs\\python\\python310\\lib\\site-packages (from jsonschema>=3.0->altair) (21.4.0)\n",
      "Requirement already satisfied: python-dateutil>=2.8.1 in c:\\users\\hanna\\appdata\\local\\programs\\python\\python310\\lib\\site-packages (from pandas>=0.18->altair) (2.8.2)\n",
      "Requirement already satisfied: pytz>=2020.1 in c:\\users\\hanna\\appdata\\local\\programs\\python\\python310\\lib\\site-packages (from pandas>=0.18->altair) (2021.3)\n",
      "Requirement already satisfied: six>=1.5 in c:\\users\\hanna\\appdata\\local\\programs\\python\\python310\\lib\\site-packages (from python-dateutil>=2.8.1->pandas>=0.18->altair) (1.16.0)\n",
      "Requirement already satisfied: MarkupSafe>=2.0 in c:\\users\\hanna\\appdata\\local\\programs\\python\\python310\\lib\\site-packages (from jinja2->altair) (2.0.1)\n",
      "Note: you may need to restart the kernel to use updated packages.\n"
     ]
    },
    {
     "name": "stderr",
     "output_type": "stream",
     "text": [
      "WARNING: You are using pip version 21.2.4; however, version 22.0.3 is available.\n",
      "You should consider upgrading via the 'C:\\Users\\Hanna\\AppData\\Local\\Programs\\Python\\Python310\\python.exe -m pip install --upgrade pip' command.\n"
     ]
    }
   ],
   "source": [
    "%pip install altair vega_datasets"
   ]
  },
  {
   "cell_type": "code",
   "execution_count": 7,
   "metadata": {},
   "outputs": [],
   "source": [
    "import altair as alt\n",
    "import pandas as pd"
   ]
  },
  {
   "cell_type": "markdown",
   "metadata": {},
   "source": [
    "•Go to: https://archive.ics.uci.edu/ml/datasets.php\n",
    "\n",
    "•Select a dataset.\n",
    "\n",
    "•Then create a data dashboard using Altair\n",
    "\n",
    "•Then create a markdown cell explain why you have decided on the design choices, what influenced your decisions and what insights have you found from the data.\n",
    "\n",
    "•Aim to have linking charts."
   ]
  },
  {
   "cell_type": "code",
   "execution_count": 1,
   "metadata": {},
   "outputs": [
    {
     "ename": "NameError",
     "evalue": "name 'pd' is not defined",
     "output_type": "error",
     "traceback": [
      "\u001b[1;31m---------------------------------------------------------------------------\u001b[0m",
      "\u001b[1;31mNameError\u001b[0m                                 Traceback (most recent call last)",
      "\u001b[1;32mc:\\Users\\Hanna\\Documents\\GitHub\\Home Learning Tasks\\NoteBook\\HLT_Python_6.ipynb Cell 7'\u001b[0m in \u001b[0;36m<module>\u001b[1;34m\u001b[0m\n\u001b[1;32m----> <a href='vscode-notebook-cell:/c%3A/Users/Hanna/Documents/GitHub/Home%20Learning%20Tasks/NoteBook/HLT_Python_6.ipynb#ch0000006?line=0'>1</a>\u001b[0m data \u001b[39m=\u001b[39m pd\u001b[39m.\u001b[39mread_data(\u001b[39m\"\u001b[39m\u001b[39m\"\u001b[39m)\n",
      "\u001b[1;31mNameError\u001b[0m: name 'pd' is not defined"
     ]
    }
   ],
   "source": [
    "data = pd.read_data(\"\")\n",
    "\n"
   ]
  }
 ],
 "metadata": {
  "interpreter": {
   "hash": "4527cf33e35289af7e32c372203409dc20daf4b5cc0ec728c3c244caabf53a98"
  },
  "kernelspec": {
   "display_name": "Python 3.10.2 64-bit",
   "language": "python",
   "name": "python3"
  },
  "language_info": {
   "codemirror_mode": {
    "name": "ipython",
    "version": 3
   },
   "file_extension": ".py",
   "mimetype": "text/x-python",
   "name": "python",
   "nbconvert_exporter": "python",
   "pygments_lexer": "ipython3",
   "version": "3.10.2"
  },
  "orig_nbformat": 4
 },
 "nbformat": 4,
 "nbformat_minor": 2
}
