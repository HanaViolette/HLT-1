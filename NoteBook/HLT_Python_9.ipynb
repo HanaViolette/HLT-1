{
 "cells": [
  {
   "cell_type": "markdown",
   "metadata": {},
   "source": [
    "# Revision Session(s)\n",
    "\n",
    "#### 📚 Exam prep: 'What is Machine learning?' | Thursday, 24/02/2022\n",
    "#### 📖 Exam prep: 'What is Machine learning?' | Tuesday, 01/03/2022\n",
    "#### ✏️ Exam prep: 'What is Machine learning?' | Thursday, 03/03/2022\n",
    "#### 📕 Exam prep: 'What is Machine learning?' | Tuesday, 08/03/2022\n",
    "______________________________________________________________________________________________________________________________________________"
   ]
  },
  {
   "cell_type": "markdown",
   "metadata": {},
   "source": [
    "# BCS Foundation Award: 'What is Machine Learning?'\n",
    "\n",
    "### 🎓 Thursday, 10/03/2022"
   ]
  },
  {
   "cell_type": "markdown",
   "metadata": {},
   "source": [
    "<img src=\"../images/BCSExamCert.png\" />"
   ]
  }
 ],
 "metadata": {
  "interpreter": {
   "hash": "4527cf33e35289af7e32c372203409dc20daf4b5cc0ec728c3c244caabf53a98"
  },
  "kernelspec": {
   "display_name": "Python 3.10.2 64-bit",
   "language": "python",
   "name": "python3"
  },
  "language_info": {
   "codemirror_mode": {
    "name": "ipython",
    "version": 3
   },
   "file_extension": ".py",
   "mimetype": "text/x-python",
   "name": "python",
   "nbconvert_exporter": "python",
   "pygments_lexer": "ipython3",
   "version": "3.10.2"
  },
  "orig_nbformat": 4
 },
 "nbformat": 4,
 "nbformat_minor": 2
}
