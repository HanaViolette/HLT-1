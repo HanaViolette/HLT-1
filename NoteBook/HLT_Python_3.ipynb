{
 "cells": [
  {
   "cell_type": "markdown",
   "metadata": {},
   "source": [
    "     >(')____,  >(')____,  >(')____,  >(')____,  >(') ___, \n",
    "       (` =~~/    (` =~~/    (` =~~/    (` =~~/    (` =~~/ \n",
    " jgs~^~^`---'~^~^~^`---'~^~^~^`---'~^~^~^`---'~^~^~^`---'~^~^~\n"
   ]
  },
  {
   "cell_type": "markdown",
   "metadata": {},
   "source": [
    "# Home Learning Tasks\n",
    "#### Python Fundamentals - Session 3: Data Handling\n",
    "_____________________________________________________________________________________________________________________"
   ]
  },
  {
   "cell_type": "markdown",
   "metadata": {},
   "source": [
    "#### Lesson Contents\n",
    "🌸Session 4: Python 3 & CV Workshop\n",
    "\n",
    "• 1 + 2 Dimensional Lists\n",
    "\n",
    "• String Handling\n",
    "\n",
    "• File Handling\n",
    "______________________________________________________________________________________________________________________"
   ]
  },
  {
   "cell_type": "markdown",
   "metadata": {},
   "source": [
    "#### Task 1\n",
    "\n",
    "Write a program that allows you to enter 4 numbers and stores them in a file called \"Numbers\"\n",
    "• 3\n",
    "• 45\n",
    "• 83\n",
    "• 21\n",
    "\n",
    "Have a go at 'w' 'r' 'a'\n",
    "\n",
    "w = Writes new data to a file\n",
    "\n",
    "r = Reads from a file\n",
    "\n",
    "a = Append data to the end of the file"
   ]
  },
  {
   "cell_type": "code",
   "execution_count": 1,
   "metadata": {},
   "outputs": [],
   "source": [
    "numbers = open(\"../data/numbers.txt\", \"w\")\n",
    "numbers.write(input(\"Enter the first number\"))\n",
    "numbers.write(\"\\n\")\n",
    "numbers.write(input(\"Enter the second number\"))\n",
    "numbers.write(\"\\n\")\n",
    "numbers.write(input(\"Enter the third number\"))\n",
    "numbers.write(\"\\n\")\n",
    "numbers.write(input(\"Enter the fourth number\"))\n",
    "numbers.close()"
   ]
  },
  {
   "cell_type": "code",
   "execution_count": 8,
   "metadata": {},
   "outputs": [
    {
     "name": "stdout",
     "output_type": "stream",
     "text": [
      "3\n",
      "45\n",
      "83\n",
      "21\n"
     ]
    }
   ],
   "source": [
    "with open(\"../Data/numbers.txt\", \"r\") as numbers:\n",
    " numberlist = numbers.read()\n",
    "numbers.close\n",
    "print(numberlist)\n"
   ]
  },
  {
   "cell_type": "markdown",
   "metadata": {},
   "source": [
    "#### Task 2\n",
    "\n",
    "Write a program to ask a student for their percentage mark and convert this to a grade.\n",
    "\n",
    "The conversion will be done in a function called mark_grade"
   ]
  },
  {
   "cell_type": "code",
   "execution_count": 6,
   "metadata": {},
   "outputs": [
    {
     "name": "stdout",
     "output_type": "stream",
     "text": [
      "Results: Grade C\n"
     ]
    }
   ],
   "source": [
    "def mark_grade():\n",
    "    if percentage >= 77:\n",
    "     letter_grade = \"Grade A\"\n",
    "    elif percentage >= 60 and percentage < 77:\n",
    "        letter_grade = \"Grade B\"\n",
    "    elif percentage >= 50 and percentage < 60:\n",
    "     letter_grade = \"Grade C\"\n",
    "    elif percentage >= 40 and percentage < 50:\n",
    "        letter_grade = \"Grade D\"\n",
    "    else:\n",
    "     letter_grade = \"Failed\"\n",
    "    return letter_grade     #if defining function make sure to RETURN statment back to me\n",
    " \n",
    "\n",
    "percentage = int(input(\"Please enter the score\"))\n",
    "print(\"Results:\", mark_grade())       #remember to call on defined function by including \"function_name()\"\" "
   ]
  },
  {
   "cell_type": "markdown",
   "metadata": {},
   "source": [
    "##### Extensions to task 2\n",
    "\n",
    "•Ask the user for their target grade and print this with their mark\n",
    "\n",
    "•If their target grade > exam grade display a suitable message\n",
    "\n",
    "•If their target grade = exam grade display a suitable message\n",
    "\n",
    "•If their target grade < exam grade display a suitable message"
   ]
  },
  {
   "cell_type": "code",
   "execution_count": 14,
   "metadata": {},
   "outputs": [
    {
     "name": "stdout",
     "output_type": "stream",
     "text": [
      "Your Target grade is B and your score was Grade C\n"
     ]
    },
    {
     "ename": "TypeError",
     "evalue": "'>' not supported between instances of 'str' and 'list'",
     "output_type": "error",
     "traceback": [
      "\u001b[1;31m---------------------------------------------------------------------------\u001b[0m",
      "\u001b[1;31mTypeError\u001b[0m                                 Traceback (most recent call last)",
      "\u001b[1;32mc:\\Users\\Hanna\\Documents\\GitHub\\Home Learning Tasks\\NoteBook\\HLT_Python_3.ipynb Cell 10'\u001b[0m in \u001b[0;36m<module>\u001b[1;34m\u001b[0m\n\u001b[0;32m      <a href='vscode-notebook-cell:/c%3A/Users/Hanna/Documents/GitHub/Home%20Learning%20Tasks/NoteBook/HLT_Python_3.ipynb#ch0000009?line=2'>3</a>\u001b[0m target_grade \u001b[39m=\u001b[39m \u001b[39mstr\u001b[39m(\u001b[39minput\u001b[39m(\u001b[39m\"\u001b[39m\u001b[39mPlease enter your target grade\u001b[39m\u001b[39m\"\u001b[39m))\n\u001b[0;32m      <a href='vscode-notebook-cell:/c%3A/Users/Hanna/Documents/GitHub/Home%20Learning%20Tasks/NoteBook/HLT_Python_3.ipynb#ch0000009?line=3'>4</a>\u001b[0m \u001b[39mprint\u001b[39m(\u001b[39m\"\u001b[39m\u001b[39mYour Target grade is\u001b[39m\u001b[39m\"\u001b[39m, target_grade \u001b[39m+\u001b[39m \u001b[39m\"\u001b[39m\u001b[39m and your score was\u001b[39m\u001b[39m\"\u001b[39m, mark_grade())\n\u001b[1;32m----> <a href='vscode-notebook-cell:/c%3A/Users/Hanna/Documents/GitHub/Home%20Learning%20Tasks/NoteBook/HLT_Python_3.ipynb#ch0000009?line=5'>6</a>\u001b[0m \u001b[39mif\u001b[39;00m target_grade \u001b[39m>\u001b[39;49m letter_grade:\n\u001b[0;32m      <a href='vscode-notebook-cell:/c%3A/Users/Hanna/Documents/GitHub/Home%20Learning%20Tasks/NoteBook/HLT_Python_3.ipynb#ch0000009?line=6'>7</a>\u001b[0m     \u001b[39mprint\u001b[39m(\u001b[39m\"\u001b[39m\u001b[39mSucceded beyond expectations\u001b[39m\u001b[39m\"\u001b[39m)\n\u001b[0;32m      <a href='vscode-notebook-cell:/c%3A/Users/Hanna/Documents/GitHub/Home%20Learning%20Tasks/NoteBook/HLT_Python_3.ipynb#ch0000009?line=7'>8</a>\u001b[0m \u001b[39melif\u001b[39;00m target_grade \u001b[39m==\u001b[39m letter_grade:\n",
      "\u001b[1;31mTypeError\u001b[0m: '>' not supported between instances of 'str' and 'list'"
     ]
    }
   ],
   "source": [
    "letter_grade = [\"A\", \"B\", \"C\", \"D\", \"F\"]\n",
    "\n",
    "target_grade = str(input(\"Please enter your target grade\"))\n",
    "print(\"Your Target grade is\", target_grade + \" and your score was\", mark_grade())\n",
    "\n",
    "if target_grade > letter_grade:\n",
    "    print(\"Succeded beyond expectations\")\n",
    "elif target_grade == letter_grade:\n",
    "    print(\"Right on the bullseye\")\n",
    "else:\n",
    "     target_grade < letter_grade\n",
    "     print(\"Better luck next time\") \n",
    "\n",
    "\n"
   ]
  }
 ],
 "metadata": {
  "interpreter": {
   "hash": "4527cf33e35289af7e32c372203409dc20daf4b5cc0ec728c3c244caabf53a98"
  },
  "kernelspec": {
   "display_name": "Python 3.10.2 64-bit",
   "language": "python",
   "name": "python3"
  },
  "language_info": {
   "codemirror_mode": {
    "name": "ipython",
    "version": 3
   },
   "file_extension": ".py",
   "mimetype": "text/x-python",
   "name": "python",
   "nbconvert_exporter": "python",
   "pygments_lexer": "ipython3",
   "version": "3.10.2"
  },
  "orig_nbformat": 4
 },
 "nbformat": 4,
 "nbformat_minor": 2
}
