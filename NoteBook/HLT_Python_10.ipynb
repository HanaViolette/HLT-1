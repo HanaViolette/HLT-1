{
 "cells": [
  {
   "cell_type": "markdown",
   "metadata": {},
   "source": [
    "# Home Learning Tasks\n",
    "#### 🌸Session 10: Introduction to Databases and SQL | Tuesday, 15/03/2022\n",
    "______________________________________________________________________________________________________________________________________________"
   ]
  },
  {
   "cell_type": "markdown",
   "metadata": {},
   "source": [
    "#### Lesson Contents\n",
    "\n",
    "• Big data\n",
    "\n",
    "• What are Databases\n",
    "\n",
    "• The Different types of Databases\n",
    "\n",
    "• Entity relationship modelling\n",
    "\n",
    "• Normalisation\n",
    "\n",
    "• Referential Integrity\n",
    "\n",
    "• Transaction Processing\n",
    "\n",
    "• ACID\n",
    "\n",
    "• Record locking and data redundancy"
   ]
  },
  {
   "cell_type": "code",
   "execution_count": null,
   "metadata": {},
   "outputs": [],
   "source": []
  }
 ],
 "metadata": {
  "language_info": {
   "name": "python"
  },
  "orig_nbformat": 4
 },
 "nbformat": 4,
 "nbformat_minor": 2
}
