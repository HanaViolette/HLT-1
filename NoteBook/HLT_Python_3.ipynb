{
 "cells": [
  {
   "cell_type": "markdown",
   "metadata": {},
   "source": [
    "     >(')____,  >(')____,  >(')____,  >(')____,  >(') ___, \n",
    "       (` =~~/    (` =~~/    (` =~~/    (` =~~/    (` =~~/ \n",
    " jgs~^~^`---'~^~^~^`---'~^~^~^`---'~^~^~^`---'~^~^~^`---'~^~^~\n"
   ]
  },
  {
   "cell_type": "markdown",
   "metadata": {},
   "source": [
    "# Home Learning Tasks\n",
    "#### 🌸Session 4: Python 3 & CV Workshop | Thursday, 03/02/2022\n",
    "_____________________________________________________________________________________________________________________"
   ]
  },
  {
   "cell_type": "markdown",
   "metadata": {},
   "source": [
    "#### Lesson Contents\n",
    "\n",
    "• 1 + 2 Dimensional Lists\n",
    "\n",
    "• String Handling\n",
    "\n",
    "• File Handling\n",
    "______________________________________________________________________________________________________________________"
   ]
  },
  {
   "cell_type": "markdown",
   "metadata": {},
   "source": [
    "#### Task 1\n",
    "\n",
    "Write a program that allows you to enter 4 numbers and stores them in a file called \"Numbers\"\n",
    "• 3\n",
    "• 45\n",
    "• 83\n",
    "• 21\n",
    "\n",
    "Have a go at 'w' 'r' 'a'\n",
    "\n",
    "w = Writes new data to a file\n",
    "\n",
    "r = Reads from a file\n",
    "\n",
    "a = Append data to the end of the file"
   ]
  },
  {
   "cell_type": "code",
   "execution_count": 1,
   "metadata": {},
   "outputs": [],
   "source": [
    "numbers = open(\"../data/numbers.txt\", \"w\")\n",
    "numbers.write(input(\"Enter the first number\"))\n",
    "numbers.write(\"\\n\")\n",
    "numbers.write(input(\"Enter the second number\"))\n",
    "numbers.write(\"\\n\")\n",
    "numbers.write(input(\"Enter the third number\"))\n",
    "numbers.write(\"\\n\")\n",
    "numbers.write(input(\"Enter the fourth number\"))\n",
    "numbers.close()"
   ]
  },
  {
   "cell_type": "code",
   "execution_count": 8,
   "metadata": {},
   "outputs": [
    {
     "name": "stdout",
     "output_type": "stream",
     "text": [
      "3\n",
      "45\n",
      "83\n",
      "21\n"
     ]
    }
   ],
   "source": [
    "with open(\"../Data/numbers.txt\", \"r\") as numbers:\n",
    " numberlist = numbers.read()\n",
    "numbers.close\n",
    "print(numberlist)\n"
   ]
  },
  {
   "cell_type": "markdown",
   "metadata": {},
   "source": [
    "#### Task 2\n",
    "\n",
    "Write a program to ask a student for their percentage mark and convert this to a grade.\n",
    "\n",
    "The conversion will be done in a function called mark_grade"
   ]
  },
  {
   "cell_type": "code",
   "execution_count": 39,
   "metadata": {},
   "outputs": [
    {
     "name": "stdout",
     "output_type": "stream",
     "text": [
      "Results: Grade  C\n"
     ]
    }
   ],
   "source": [
    "#Unclained expression version\n",
    "\n",
    "def mark_grade():\n",
    "    if percentage >= 70:\n",
    "     result_grade = \"A\"\n",
    "    elif percentage >= 60 and percentage < 70:                      \n",
    "        result_grade = \"B\"\n",
    "    elif percentage >= 50 and percentage < 60:\n",
    "     result_grade = \"C\"\n",
    "    elif percentage >= 40 and percentage < 50:\n",
    "        result_grade = \"D\"\n",
    "    else:\n",
    "     result_grade = \"Failed\"\n",
    "    return result_grade     #if defining function make sure to RETURN statment back to me\n",
    " \n",
    "\n",
    "percentage = int(input(\"Please enter the score\"))\n",
    "print(\"Results: Grade \", mark_grade())       #remember to call on defined function by including \"function_name()\"\" "
   ]
  },
  {
   "cell_type": "code",
   "execution_count": 40,
   "metadata": {},
   "outputs": [
    {
     "name": "stdout",
     "output_type": "stream",
     "text": [
      "Results: Grade  C\n"
     ]
    }
   ],
   "source": [
    "#Chained expression version\n",
    "\n",
    "def mark_grade():\n",
    "    if percentage >= 70:\n",
    "     result_grade = \"A\"\n",
    "    elif 60 <= percentage < 70:                      \n",
    "        result_grade = \"B\"\n",
    "    elif 50 <= percentage < 60:\n",
    "     result_grade = \"C\"\n",
    "    elif 40 <= percentage < 50:\n",
    "        result_grade = \"D\"\n",
    "    else:\n",
    "     result_grade = \"Failed\"\n",
    "    return result_grade   \n",
    "\n",
    "percentage = int(input(\"Please enter the score\"))\n",
    "print(\"Results: Grade \", mark_grade())     "
   ]
  },
  {
   "cell_type": "markdown",
   "metadata": {},
   "source": [
    "##### Extensions to task 2\n",
    "\n",
    "•Ask the user for their target grade and print this with their mark\n",
    "\n",
    "•If their target grade > exam grade display a suitable message\n",
    "\n",
    "•If their target grade = exam grade display a suitable message\n",
    "\n",
    "•If their target grade < exam grade display a suitable message"
   ]
  },
  {
   "cell_type": "code",
   "execution_count": 44,
   "metadata": {},
   "outputs": [
    {
     "name": "stdout",
     "output_type": "stream",
     "text": [
      "Your Target grade is B  and your score was C\n",
      "Better luck next time\n"
     ]
    }
   ],
   "source": [
    "target_grade = str(input(\"Please enter your target grade\"))\n",
    "print(\"Your Target grade is\", target_grade , \" and your score was\", mark_grade())\n",
    "\n",
    "if target_grade > mark_grade():\n",
    "    print(\"Succeeded beyond expectation\")\n",
    "elif target_grade < mark_grade():\n",
    "    print(\"Better luck next time\")\n",
    "elif target_grade == mark_grade():                                                           \n",
    "    print(\"Right on the bullseye\")"
   ]
  },
  {
   "cell_type": "code",
   "execution_count": 41,
   "metadata": {},
   "outputs": [
    {
     "name": "stdout",
     "output_type": "stream",
     "text": [
      "False\n"
     ]
    }
   ],
   "source": [
    "print(\"B\" > \"C\") #note: ascii table A = 101, B = 102, C = 103 (C is a higher number than B on this table, so it's coming up the wrong way around)"
   ]
  }
 ],
 "metadata": {
  "interpreter": {
   "hash": "4527cf33e35289af7e32c372203409dc20daf4b5cc0ec728c3c244caabf53a98"
  },
  "kernelspec": {
   "display_name": "Python 3.10.2 64-bit",
   "language": "python",
   "name": "python3"
  },
  "language_info": {
   "codemirror_mode": {
    "name": "ipython",
    "version": 3
   },
   "file_extension": ".py",
   "mimetype": "text/x-python",
   "name": "python",
   "nbconvert_exporter": "python",
   "pygments_lexer": "ipython3",
   "version": "3.10.2"
  },
  "orig_nbformat": 4
 },
 "nbformat": 4,
 "nbformat_minor": 2
}
