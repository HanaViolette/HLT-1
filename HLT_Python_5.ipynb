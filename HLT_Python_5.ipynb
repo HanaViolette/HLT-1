{
 "cells": [
  {
   "cell_type": "markdown",
   "metadata": {},
   "source": [
    "# Home Learning Tasks\n",
    "#### Python Fundamentals - Session 5\n",
    "_____________________________________________________________________________________________________________________"
   ]
  },
  {
   "cell_type": "code",
   "execution_count": 2,
   "metadata": {},
   "outputs": [
    {
     "name": "stdout",
     "output_type": "stream",
     "text": [
      "Requirement already satisfied: pandas in c:\\users\\hanna\\appdata\\local\\programs\\python\\python310\\lib\\site-packages (1.4.0)\n",
      "Requirement already satisfied: pytz>=2020.1 in c:\\users\\hanna\\appdata\\local\\programs\\python\\python310\\lib\\site-packages (from pandas) (2021.3)\n",
      "Requirement already satisfied: python-dateutil>=2.8.1 in c:\\users\\hanna\\appdata\\local\\programs\\python\\python310\\lib\\site-packages (from pandas) (2.8.2)\n",
      "Requirement already satisfied: numpy>=1.21.0 in c:\\users\\hanna\\appdata\\local\\programs\\python\\python310\\lib\\site-packages (from pandas) (1.22.2)\n",
      "Requirement already satisfied: six>=1.5 in c:\\users\\hanna\\appdata\\local\\programs\\python\\python310\\lib\\site-packages (from python-dateutil>=2.8.1->pandas) (1.16.0)\n"
     ]
    },
    {
     "name": "stderr",
     "output_type": "stream",
     "text": [
      "WARNING: You are using pip version 21.2.4; however, version 22.0.3 is available.\n",
      "You should consider upgrading via the 'C:\\Users\\Hanna\\AppData\\Local\\Programs\\Python\\Python310\\python.exe -m pip install --upgrade pip' command.\n"
     ]
    }
   ],
   "source": [
    "!pip install pandas\n",
    "\n",
    "#use %pip if !pip doesn't work"
   ]
  },
  {
   "cell_type": "markdown",
   "metadata": {},
   "source": [
    "### Create a CSV file of 15 holiday destinations for a website\n",
    "\n",
    "1.Add in a column of destinations\n",
    "\n",
    "2.Add in a column that shows feedback score out of 10 for that destination\n",
    "\n",
    "3.Add in a column for average hotel star rating for those destinations\n",
    "\n",
    "4.Add in a column for number of all-inclusive hotels within each destination\n",
    "\n",
    "5.Add in the most visited city in each destination"
   ]
  },
  {
   "cell_type": "code",
   "execution_count": 4,
   "metadata": {},
   "outputs": [
    {
     "name": "stdout",
     "output_type": "stream",
     "text": [
      "    Destination  Review Rating  Hotel Rating  № Hotels  Most Visted\n",
      "0      Portugal              7             4       952        Porto\n",
      "1         Spain              5             5       753      Seville\n",
      "2        France              8             4       392         Nice\n",
      "3      Scotland              2             3       171  Edingburugh\n",
      "4       England              5             3       218         Bath\n",
      "5         Italy              6             3       766       Amalfi\n",
      "6         Malta              7             2       277        Mdina\n",
      "7        Greece              4             2       535       Chania\n",
      "8        Sweden              4             5       981      Uppsala\n",
      "9        Cyprus              6             2       132       Paphos\n",
      "10  Switzerland              8             5       354       Zurich\n",
      "11      Croatia              4             4       831    Dubrovnik\n",
      "12     Bulgaria              3             3       350        Varna\n",
      "13      Germany              2             4       729      Hamburg\n",
      "14    Gibraltar              4             3       124     Westside\n"
     ]
    }
   ],
   "source": [
    "import pandas as pd\n",
    "\n",
    "data = pd.read_csv(\"Holiday_Destinations.csv\")\n",
    "\n",
    "print (data)\n"
   ]
  },
  {
   "cell_type": "markdown",
   "metadata": {},
   "source": [
    "### 2.Print row 3-8 ( using iloc/loc).\n",
    "\n",
    "- Using iloc here bc it retrieves the data based on index location\n",
    "- To print a range using iloc,you can use a colon [ : ]"
   ]
  },
  {
   "cell_type": "code",
   "execution_count": 7,
   "metadata": {},
   "outputs": [
    {
     "name": "stdout",
     "output_type": "stream",
     "text": [
      "  Destination  Review Rating  Hotel Rating  № Hotels  Most Visted\n",
      "3    Scotland              2             3       171  Edingburugh\n",
      "4     England              5             3       218         Bath\n",
      "5       Italy              6             3       766       Amalfi\n",
      "6       Malta              7             2       277        Mdina\n",
      "7      Greece              4             2       535       Chania\n",
      "8      Sweden              4             5       981      Uppsala\n"
     ]
    }
   ],
   "source": [
    "data = pd.read_csv(\"Holiday_Destinations.csv\")    #probs don't need to rerun this bit bc I did it in the cell above but w/e\n",
    "\n",
    "print (data.iloc[3:9])      #originally did 3:8, this bc of the 0,1,2,3 / 1,2,3,4 thing?"
   ]
  },
  {
   "cell_type": "markdown",
   "metadata": {},
   "source": [
    "### 3.Find the mean number of all-inclusive hotels across all destinations."
   ]
  }
 ],
 "metadata": {
  "interpreter": {
   "hash": "4527cf33e35289af7e32c372203409dc20daf4b5cc0ec728c3c244caabf53a98"
  },
  "kernelspec": {
   "display_name": "Python 3.10.2 64-bit",
   "language": "python",
   "name": "python3"
  },
  "language_info": {
   "codemirror_mode": {
    "name": "ipython",
    "version": 3
   },
   "file_extension": ".py",
   "mimetype": "text/x-python",
   "name": "python",
   "nbconvert_exporter": "python",
   "pygments_lexer": "ipython3",
   "version": "3.10.2"
  },
  "orig_nbformat": 4
 },
 "nbformat": 4,
 "nbformat_minor": 2
}
