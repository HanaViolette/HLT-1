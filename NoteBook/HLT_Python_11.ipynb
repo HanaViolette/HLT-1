{
 "cells": [
  {
   "cell_type": "markdown",
   "metadata": {},
   "source": [
    "# Home Learning Tasks\n",
    "#### 🌸Session 10: Introduction to Databases and SQL | Thursday, 17/03/2022\n",
    "______________________________________________________________________________________________________________________________________________"
   ]
  },
  {
   "cell_type": "code",
   "execution_count": null,
   "metadata": {},
   "outputs": [],
   "source": []
  }
 ],
 "metadata": {
  "language_info": {
   "name": "python"
  },
  "orig_nbformat": 4
 },
 "nbformat": 4,
 "nbformat_minor": 2
}
