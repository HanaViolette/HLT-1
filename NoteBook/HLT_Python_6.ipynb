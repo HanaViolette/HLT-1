{
 "cells": [
  {
   "cell_type": "markdown",
   "metadata": {},
   "source": [
    "# Home Learning Tasks\n",
    "#### Python Fundamentals - Session 6: Data Visualisation\n",
    "_____________________________________________________________________________________________________________________"
   ]
  },
  {
   "cell_type": "markdown",
   "metadata": {},
   "source": [
    "### Lesson Contents\n",
    "\n",
    "- Data Visualisation Theory\n",
    "- What are Visual Analytics\n",
    "- Evaluation\n",
    "- Choosing a Visualisation Approach\n",
    "- Visual Analytics & Visualisation\n",
    "- Data Types\n",
    "- Marks\n",
    "- Channels\n",
    "- Effectiveness by Data Type\n",
    "- Decomposing Colour\n",
    "- Memory Term\n",
    "- Recognition vs Recall\n",
    "- Best Practices and General Rule of Thumb\n",
    "- Function over form\n",
    "- Dynamic Data and Multiple Views\n",
    "- Creating Visualisations using Altair\n",
    "- Terminal or Command Prompt\n",
    "- Anaconda\n",
    "- Altair Charts"
   ]
  },
  {
   "cell_type": "markdown",
   "metadata": {},
   "source": [
    "•Go to: https://archive.ics.uci.edu/ml/datasets.php\n",
    "\n",
    "•Select a dataset.\n",
    "\n",
    "•Then create a data dashboard using Altair\n",
    "\n",
    "•Then create a markdown cell explain why you have decided on the design choices, what influenced your decisions and what insights have you found from the data.\n",
    "\n",
    "•Aim to have linking charts."
   ]
  },
  {
   "cell_type": "code",
   "execution_count": null,
   "metadata": {},
   "outputs": [],
   "source": []
  }
 ],
 "metadata": {
  "language_info": {
   "name": "python"
  },
  "orig_nbformat": 4
 },
 "nbformat": 4,
 "nbformat_minor": 2
}
